{
  "cells": [
    {
      "cell_type": "markdown",
      "source": [
        "# Import"
      ],
      "metadata": {
        "id": "kZUOyHomk9Wr"
      },
      "id": "kZUOyHomk9Wr"
    },
    {
      "cell_type": "code",
      "execution_count": null,
      "id": "Fl2X-f-sNQx7",
      "metadata": {
        "colab": {
          "base_uri": "https://localhost:8080/"
        },
        "id": "Fl2X-f-sNQx7",
        "outputId": "5f45a781-c001-4bf7-f803-53a528b2463a"
      },
      "outputs": [
        {
          "output_type": "stream",
          "name": "stdout",
          "text": [
            "Mounted at /content/drive\n"
          ]
        }
      ],
      "source": [
        "from google.colab import drive\n",
        "drive.mount('/content/drive')"
      ]
    },
    {
      "cell_type": "code",
      "execution_count": null,
      "id": "07976b8a",
      "metadata": {
        "id": "07976b8a"
      },
      "outputs": [],
      "source": [
        "import keras\n",
        "from keras.datasets import mnist\n",
        "import matplotlib.pyplot as plt\n",
        "import numpy as np"
      ]
    },
    {
      "cell_type": "code",
      "execution_count": null,
      "id": "6744f08c",
      "metadata": {
        "id": "6744f08c"
      },
      "outputs": [],
      "source": [
        "#Model\n",
        "from keras.models import Sequential\n",
        "from keras.layers import Dense\n",
        "\n",
        "from keras.models import Sequential\n",
        "from keras.layers import Dense, Dropout\n",
        "from keras.regularizers import l2\n",
        "from keras.callbacks import EarlyStopping"
      ]
    },
    {
      "cell_type": "markdown",
      "source": [
        "# Load Data"
      ],
      "metadata": {
        "id": "vlV75aazlAz0"
      },
      "id": "vlV75aazlAz0"
    },
    {
      "cell_type": "code",
      "execution_count": null,
      "id": "5af47690",
      "metadata": {
        "id": "5af47690",
        "colab": {
          "base_uri": "https://localhost:8080/"
        },
        "outputId": "a8b9f1a1-0e87-455c-8e4f-4db9e1c3e22e"
      },
      "outputs": [
        {
          "output_type": "stream",
          "name": "stdout",
          "text": [
            "Downloading data from https://storage.googleapis.com/tensorflow/tf-keras-datasets/mnist.npz\n",
            "11490434/11490434 [==============================] - 1s 0us/step\n"
          ]
        }
      ],
      "source": [
        "(train_images, train_labels), (test_images, test_labels)=mnist.load_data()"
      ]
    },
    {
      "cell_type": "code",
      "execution_count": null,
      "id": "d7d05d88",
      "metadata": {
        "colab": {
          "base_uri": "https://localhost:8080/"
        },
        "id": "d7d05d88",
        "outputId": "36b818be-5a32-4163-853a-d3fb5b89bf52"
      },
      "outputs": [
        {
          "output_type": "execute_result",
          "data": {
            "text/plain": [
              "(60000, 28, 28)"
            ]
          },
          "metadata": {},
          "execution_count": 5
        }
      ],
      "source": [
        "train_images.shape"
      ]
    },
    {
      "cell_type": "code",
      "execution_count": null,
      "id": "7be2eb8a",
      "metadata": {
        "colab": {
          "base_uri": "https://localhost:8080/"
        },
        "id": "7be2eb8a",
        "outputId": "969eefa3-9886-494e-c8bf-eaf10e22aef3"
      },
      "outputs": [
        {
          "output_type": "execute_result",
          "data": {
            "text/plain": [
              "(60000,)"
            ]
          },
          "metadata": {},
          "execution_count": 6
        }
      ],
      "source": [
        "train_labels.shape"
      ]
    },
    {
      "cell_type": "code",
      "execution_count": null,
      "id": "e4965e2e",
      "metadata": {
        "colab": {
          "base_uri": "https://localhost:8080/"
        },
        "id": "e4965e2e",
        "outputId": "66e0dfb3-5fc8-41db-c6fc-5d6290104fa8"
      },
      "outputs": [
        {
          "output_type": "execute_result",
          "data": {
            "text/plain": [
              "(10000, 28, 28)"
            ]
          },
          "metadata": {},
          "execution_count": 7
        }
      ],
      "source": [
        "test_images.shape"
      ]
    },
    {
      "cell_type": "code",
      "execution_count": null,
      "id": "5c84f94a",
      "metadata": {
        "colab": {
          "base_uri": "https://localhost:8080/",
          "height": 447
        },
        "id": "5c84f94a",
        "outputId": "5b633abd-3374-4fa4-c8e9-b21b7b63cbdf"
      },
      "outputs": [
        {
          "output_type": "execute_result",
          "data": {
            "text/plain": [
              "<matplotlib.image.AxesImage at 0x789422e08be0>"
            ]
          },
          "metadata": {},
          "execution_count": 8
        },
        {
          "output_type": "display_data",
          "data": {
            "text/plain": [
              "<Figure size 640x480 with 1 Axes>"
            ],
            "image/png": "[encoded data removed]"
          },
          "metadata": {}
        }
      ],
      "source": [
        "plt.imshow(train_images[5], cmap='gray')"
      ]
    },
    {
      "cell_type": "code",
      "execution_count": null,
      "id": "381b0e4b",
      "metadata": {
        "colab": {
          "base_uri": "https://localhost:8080/"
        },
        "id": "381b0e4b",
        "outputId": "f9b6b4d1-01b8-4268-f6e2-f420662d8591"
      },
      "outputs": [
        {
          "output_type": "execute_result",
          "data": {
            "text/plain": [
              "2"
            ]
          },
          "metadata": {},
          "execution_count": 9
        }
      ],
      "source": [
        "train_labels[5]"
      ]
    },
    {
      "cell_type": "markdown",
      "source": [
        "# Train Test Split"
      ],
      "metadata": {
        "id": "tn3PCaMelcMi"
      },
      "id": "tn3PCaMelcMi"
    },
    {
      "cell_type": "code",
      "execution_count": null,
      "id": "f513a35c",
      "metadata": {
        "id": "f513a35c"
      },
      "outputs": [],
      "source": [
        "train_images = train_images.reshape(60000, 784)\n",
        "test_images = test_images.reshape(10000, 784)"
      ]
    },
    {
      "cell_type": "code",
      "execution_count": null,
      "id": "f16b3dcc",
      "metadata": {
        "colab": {
          "base_uri": "https://localhost:8080/"
        },
        "id": "f16b3dcc",
        "outputId": "ed778ce7-0985-4a83-a447-323edbf299e5"
      },
      "outputs": [
        {
          "output_type": "execute_result",
          "data": {
            "text/plain": [
              "(60000, 784)"
            ]
          },
          "metadata": {},
          "execution_count": 11
        }
      ],
      "source": [
        "train_images.shape"
      ]
    },
    {
      "cell_type": "code",
      "execution_count": null,
      "id": "6f445944",
      "metadata": {
        "colab": {
          "base_uri": "https://localhost:8080/"
        },
        "id": "6f445944",
        "outputId": "faf8babe-2327-410e-a05d-877c6e91cdcb"
      },
      "outputs": [
        {
          "output_type": "execute_result",
          "data": {
            "text/plain": [
              "(10000, 784)"
            ]
          },
          "metadata": {},
          "execution_count": 12
        }
      ],
      "source": [
        "test_images.shape"
      ]
    },
    {
      "cell_type": "code",
      "execution_count": null,
      "id": "8dde24d1",
      "metadata": {
        "id": "8dde24d1"
      },
      "outputs": [],
      "source": [
        "train_images = train_images.astype('float32')/255.0\n",
        "test_images = test_images.astype('float32')/255.0"
      ]
    },
    {
      "cell_type": "code",
      "execution_count": null,
      "id": "eedd8943",
      "metadata": {
        "id": "eedd8943"
      },
      "outputs": [],
      "source": [
        "#train_images[1]"
      ]
    },
    {
      "cell_type": "code",
      "execution_count": null,
      "id": "bf402ea6",
      "metadata": {
        "colab": {
          "base_uri": "https://localhost:8080/"
        },
        "id": "bf402ea6",
        "outputId": "09dcde6d-ba32-41a6-c4f3-707873a090a7"
      },
      "outputs": [
        {
          "output_type": "execute_result",
          "data": {
            "text/plain": [
              "array([5, 0, 4, ..., 5, 6, 8], dtype=uint8)"
            ]
          },
          "metadata": {},
          "execution_count": 15
        }
      ],
      "source": [
        "train_labels"
      ]
    },
    {
      "cell_type": "code",
      "execution_count": null,
      "id": "6ff02743",
      "metadata": {
        "id": "6ff02743"
      },
      "outputs": [],
      "source": [
        "train_labels = keras.utils.to_categorical(train_labels)\n",
        "test_labels = keras.utils.to_categorical(test_labels)"
      ]
    },
    {
      "cell_type": "code",
      "execution_count": null,
      "id": "583f9664",
      "metadata": {
        "colab": {
          "base_uri": "https://localhost:8080/"
        },
        "id": "583f9664",
        "outputId": "8e355595-5b7e-415e-b21e-d120b2b6da37"
      },
      "outputs": [
        {
          "output_type": "execute_result",
          "data": {
            "text/plain": [
              "array([0., 0., 0., 0., 0., 1., 0., 0., 0., 0.], dtype=float32)"
            ]
          },
          "metadata": {},
          "execution_count": 17
        }
      ],
      "source": [
        "train_labels[0]"
      ]
    },
    {
      "cell_type": "markdown",
      "source": [
        "# Design the Model"
      ],
      "metadata": {
        "id": "VoMaYTEzlO5y"
      },
      "id": "VoMaYTEzlO5y"
    },
    {
      "cell_type": "code",
      "source": [
        "#### Old ####\n",
        "# model = Sequential()\n",
        "# model.add(Dense(128, activation='relu'))\n",
        "# model.add(Dense(64, activation='relu'))\n",
        "# model.add(Dense(10, activation='softmax'))"
      ],
      "metadata": {
        "id": "HB0H6SyxmAav"
      },
      "id": "HB0H6SyxmAav",
      "execution_count": null,
      "outputs": []
    },
    {
      "cell_type": "code",
      "execution_count": null,
      "id": "91d82153",
      "metadata": {
        "id": "91d82153"
      },
      "outputs": [],
      "source": [
        "def build_regularized_model(l2_factor=0.01, dropout_rate=0.3):\n",
        "    model = Sequential([\n",
        "        Dense(256, activation='relu', input_shape=(784,), kernel_regularizer=l2(l2_factor)),\n",
        "        Dropout(dropout_rate),\n",
        "        Dense(256, activation='relu', kernel_regularizer=l2(l2_factor)),\n",
        "        Dropout(dropout_rate),\n",
        "        Dense(128, activation='relu', kernel_regularizer=l2(l2_factor)),\n",
        "        Dense(10, activation='softmax')\n",
        "    ])\n",
        "\n",
        "    model.compile(optimizer='adam', loss='categorical_crossentropy', metrics=['accuracy'])\n",
        "    return model"
      ]
    },
    {
      "cell_type": "code",
      "execution_count": null,
      "id": "fa4985f5",
      "metadata": {
        "colab": {
          "base_uri": "https://localhost:8080/"
        },
        "id": "fa4985f5",
        "outputId": "7ba33b96-7f2d-4790-adf9-a5bf88ce3a1e"
      },
      "outputs": [
        {
          "output_type": "stream",
          "name": "stdout",
          "text": [
            "Model: \"sequential\"\n",
            "_________________________________________________________________\n",
            " Layer (type)                Output Shape              Param #   \n",
            "=================================================================\n",
            " dense (Dense)               (None, 256)               200960    \n",
            "                                                                 \n",
            " dropout (Dropout)           (None, 256)               0         \n",
            "                                                                 \n",
            " dense_1 (Dense)             (None, 256)               65792     \n",
            "                                                                 \n",
            " dropout_1 (Dropout)         (None, 256)               0         \n",
            "                                                                 \n",
            " dense_2 (Dense)             (None, 128)               32896     \n",
            "                                                                 \n",
            " dense_3 (Dense)             (None, 10)                1290      \n",
            "                                                                 \n",
            "=================================================================\n",
            "Total params: 300938 (1.15 MB)\n",
            "Trainable params: 300938 (1.15 MB)\n",
            "Non-trainable params: 0 (0.00 Byte)\n",
            "_________________________________________________________________\n"
          ]
        }
      ],
      "source": [
        "# Create the model with specific regularization parameters\n",
        "model = build_regularized_model(l2_factor=0.01, dropout_rate=0.3)\n",
        "model.summary()\n",
        "\n",
        "# Set up early stopping\n",
        "early_stopping = EarlyStopping(monitor='val_loss', patience=5, restore_best_weights=True)"
      ]
    },
    {
      "cell_type": "code",
      "source": [
        "# Train the model with early stopping\n",
        "history = model.fit(train_images, train_labels, epochs=20, batch_size=32,\n",
        "                    validation_data=(test_images, test_labels), callbacks=[early_stopping])"
      ],
      "metadata": {
        "id": "xSteOq3vlwgv",
        "colab": {
          "base_uri": "https://localhost:8080/"
        },
        "outputId": "aad03e1a-7375-430b-a0ad-7dcacc4f55bd"
      },
      "id": "xSteOq3vlwgv",
      "execution_count": null,
      "outputs": [
        {
          "output_type": "stream",
          "name": "stdout",
          "text": [
            "Epoch 1/20\n",
            "1875/1875 [==============================] - 14s 7ms/step - loss: 1.2141 - accuracy: 0.8660 - val_loss: 0.6685 - val_accuracy: 0.9216\n",
            "Epoch 2/20\n",
            "1875/1875 [==============================] - 16s 9ms/step - loss: 0.7246 - accuracy: 0.8979 - val_loss: 0.6167 - val_accuracy: 0.9301\n",
            "Epoch 3/20\n",
            "1875/1875 [==============================] - 13s 7ms/step - loss: 0.6762 - accuracy: 0.9050 - val_loss: 0.5807 - val_accuracy: 0.9305\n",
            "Epoch 4/20\n",
            "1875/1875 [==============================] - 13s 7ms/step - loss: 0.6473 - accuracy: 0.9088 - val_loss: 0.5572 - val_accuracy: 0.9322\n",
            "Epoch 5/20\n",
            "1875/1875 [==============================] - 13s 7ms/step - loss: 0.6304 - accuracy: 0.9102 - val_loss: 0.6810 - val_accuracy: 0.8842\n",
            "Epoch 6/20\n",
            "1875/1875 [==============================] - 13s 7ms/step - loss: 0.6226 - accuracy: 0.9105 - val_loss: 0.5340 - val_accuracy: 0.9369\n",
            "Epoch 7/20\n",
            "1875/1875 [==============================] - 13s 7ms/step - loss: 0.6110 - accuracy: 0.9111 - val_loss: 0.5403 - val_accuracy: 0.9344\n",
            "Epoch 8/20\n",
            "1875/1875 [==============================] - 13s 7ms/step - loss: 0.6050 - accuracy: 0.9117 - val_loss: 0.5194 - val_accuracy: 0.9390\n",
            "Epoch 9/20\n",
            "1875/1875 [==============================] - 13s 7ms/step - loss: 0.6032 - accuracy: 0.9120 - val_loss: 0.5203 - val_accuracy: 0.9381\n",
            "Epoch 10/20\n",
            "1875/1875 [==============================] - 13s 7ms/step - loss: 0.5919 - accuracy: 0.9140 - val_loss: 0.5245 - val_accuracy: 0.9342\n",
            "Epoch 11/20\n",
            "1875/1875 [==============================] - 13s 7ms/step - loss: 0.5906 - accuracy: 0.9151 - val_loss: 0.5063 - val_accuracy: 0.9347\n",
            "Epoch 12/20\n",
            "1875/1875 [==============================] - 12s 7ms/step - loss: 0.5890 - accuracy: 0.9132 - val_loss: 0.5022 - val_accuracy: 0.9361\n",
            "Epoch 13/20\n",
            "1875/1875 [==============================] - 12s 6ms/step - loss: 0.5819 - accuracy: 0.9136 - val_loss: 0.4751 - val_accuracy: 0.9442\n",
            "Epoch 14/20\n",
            "1875/1875 [==============================] - 13s 7ms/step - loss: 0.5792 - accuracy: 0.9147 - val_loss: 0.4766 - val_accuracy: 0.9427\n",
            "Epoch 15/20\n",
            "1875/1875 [==============================] - 13s 7ms/step - loss: 0.5763 - accuracy: 0.9138 - val_loss: 0.4871 - val_accuracy: 0.9388\n",
            "Epoch 16/20\n",
            "1875/1875 [==============================] - 13s 7ms/step - loss: 0.5806 - accuracy: 0.9130 - val_loss: 0.5179 - val_accuracy: 0.9260\n",
            "Epoch 17/20\n",
            "1875/1875 [==============================] - 13s 7ms/step - loss: 0.5741 - accuracy: 0.9143 - val_loss: 0.4908 - val_accuracy: 0.9331\n",
            "Epoch 18/20\n",
            "1875/1875 [==============================] - 13s 7ms/step - loss: 0.5740 - accuracy: 0.9129 - val_loss: 0.4707 - val_accuracy: 0.9431\n",
            "Epoch 19/20\n",
            "1875/1875 [==============================] - 13s 7ms/step - loss: 0.5735 - accuracy: 0.9137 - val_loss: 0.4588 - val_accuracy: 0.9465\n",
            "Epoch 20/20\n",
            "1875/1875 [==============================] - 15s 8ms/step - loss: 0.5707 - accuracy: 0.9139 - val_loss: 0.4723 - val_accuracy: 0.9436\n"
          ]
        }
      ]
    },
    {
      "cell_type": "code",
      "execution_count": null,
      "id": "9bb062dc",
      "metadata": {
        "id": "9bb062dc",
        "colab": {
          "base_uri": "https://localhost:8080/"
        },
        "outputId": "79754809-6327-4402-abad-6f229ad52d96"
      },
      "outputs": [
        {
          "output_type": "stream",
          "name": "stdout",
          "text": [
            "Model: \"sequential\"\n",
            "_________________________________________________________________\n",
            " Layer (type)                Output Shape              Param #   \n",
            "=================================================================\n",
            " dense (Dense)               (None, 256)               200960    \n",
            "                                                                 \n",
            " dropout (Dropout)           (None, 256)               0         \n",
            "                                                                 \n",
            " dense_1 (Dense)             (None, 256)               65792     \n",
            "                                                                 \n",
            " dropout_1 (Dropout)         (None, 256)               0         \n",
            "                                                                 \n",
            " dense_2 (Dense)             (None, 128)               32896     \n",
            "                                                                 \n",
            " dense_3 (Dense)             (None, 10)                1290      \n",
            "                                                                 \n",
            "=================================================================\n",
            "Total params: 300938 (1.15 MB)\n",
            "Trainable params: 300938 (1.15 MB)\n",
            "Non-trainable params: 0 (0.00 Byte)\n",
            "_________________________________________________________________\n"
          ]
        }
      ],
      "source": [
        "model.summary()"
      ]
    },
    {
      "cell_type": "markdown",
      "source": [
        "#Evaluate"
      ],
      "metadata": {
        "id": "gcvDjSISljb8"
      },
      "id": "gcvDjSISljb8"
    },
    {
      "cell_type": "code",
      "execution_count": null,
      "id": "08c36ebf",
      "metadata": {
        "id": "08c36ebf",
        "colab": {
          "base_uri": "https://localhost:8080/"
        },
        "outputId": "dfa92984-f6ab-49fb-e7b6-c6a85357f4cc"
      },
      "outputs": [
        {
          "output_type": "stream",
          "name": "stdout",
          "text": [
            "313/313 [==============================] - 1s 2ms/step - loss: 0.4723 - accuracy: 0.9436\n"
          ]
        }
      ],
      "source": [
        "test_loss, test_acc = model.evaluate(test_images, test_labels)\n"
      ]
    },
    {
      "cell_type": "code",
      "execution_count": null,
      "id": "79398f65",
      "metadata": {
        "id": "79398f65",
        "colab": {
          "base_uri": "https://localhost:8080/"
        },
        "outputId": "1fb788f8-36ec-4466-d5d2-af06283960da"
      },
      "outputs": [
        {
          "output_type": "execute_result",
          "data": {
            "text/plain": [
              "0.4723367691040039"
            ]
          },
          "metadata": {},
          "execution_count": 24
        }
      ],
      "source": [
        "test_loss"
      ]
    },
    {
      "cell_type": "code",
      "execution_count": null,
      "id": "d947cdef",
      "metadata": {
        "id": "d947cdef",
        "colab": {
          "base_uri": "https://localhost:8080/"
        },
        "outputId": "13a13328-9a68-4f67-9939-b57598e4050b"
      },
      "outputs": [
        {
          "output_type": "execute_result",
          "data": {
            "text/plain": [
              "0.9435999989509583"
            ]
          },
          "metadata": {},
          "execution_count": 25
        }
      ],
      "source": [
        "test_acc"
      ]
    },
    {
      "cell_type": "markdown",
      "source": [
        "# Predict"
      ],
      "metadata": {
        "id": "nn8JUfSrlqvh"
      },
      "id": "nn8JUfSrlqvh"
    },
    {
      "cell_type": "code",
      "execution_count": null,
      "id": "e8cd1f2f",
      "metadata": {
        "id": "e8cd1f2f",
        "colab": {
          "base_uri": "https://localhost:8080/",
          "height": 452
        },
        "outputId": "2f26be28-0a1e-4946-82e1-f48f82a7403c"
      },
      "outputs": [
        {
          "output_type": "execute_result",
          "data": {
            "text/plain": [
              "<matplotlib.image.AxesImage at 0x789400f65000>"
            ]
          },
          "metadata": {},
          "execution_count": 26
        },
        {
          "output_type": "display_data",
          "data": {
            "text/plain": [
              "<Figure size 640x480 with 1 Axes>"
            ],
            "image/png": "[encoded data removed]"
          },
          "metadata": {}
        }
      ],
      "source": [
        "import cv2\n",
        "test_img = cv2.imread('/content/drive/MyDrive/CV_HW Solving/seven.png', cv2.IMREAD_GRAYSCALE)\n",
        "plt.imshow(test_img, cmap='gray')"
      ]
    },
    {
      "cell_type": "code",
      "execution_count": null,
      "id": "05cf6f8f",
      "metadata": {
        "id": "05cf6f8f"
      },
      "outputs": [],
      "source": [
        "test_img_resized =  cv2.resize(test_img, (28, 28))\n",
        "test_img_flatten = test_img_resized.reshape(1, 784)\n",
        "test_img_normalized = test_img_flatten.astype('float32')/255."
      ]
    },
    {
      "cell_type": "code",
      "execution_count": null,
      "id": "ebf9440f",
      "metadata": {
        "id": "ebf9440f",
        "colab": {
          "base_uri": "https://localhost:8080/"
        },
        "outputId": "772dc983-28a5-4866-a2c3-9859e4567f3f"
      },
      "outputs": [
        {
          "output_type": "stream",
          "name": "stdout",
          "text": [
            "1/1 [==============================] - 0s 104ms/step\n"
          ]
        },
        {
          "output_type": "execute_result",
          "data": {
            "text/plain": [
              "array([[0.20328748, 0.00097227, 0.02696492, 0.01234634, 0.00658297,\n",
              "        0.06920876, 0.03814158, 0.00326274, 0.61430717, 0.02492585]],\n",
              "      dtype=float32)"
            ]
          },
          "metadata": {},
          "execution_count": 28
        }
      ],
      "source": [
        "pred = model.predict(test_img_normalized)\n",
        "pred"
      ]
    },
    {
      "cell_type": "code",
      "execution_count": null,
      "id": "ee214007",
      "metadata": {
        "id": "ee214007",
        "colab": {
          "base_uri": "https://localhost:8080/"
        },
        "outputId": "8dac94b5-5ba8-460c-ebfe-4e5ae070a9e8"
      },
      "outputs": [
        {
          "output_type": "execute_result",
          "data": {
            "text/plain": [
              "8"
            ]
          },
          "metadata": {},
          "execution_count": 29
        }
      ],
      "source": [
        "prediced_label = np.argmax(pred)\n",
        "prediced_label"
      ]
    }
  ],
  "metadata": {
    "colab": {
      "provenance": []
    },
    "kernelspec": {
      "display_name": "Python 3 (ipykernel)",
      "language": "python",
      "name": "python3"
    },
    "language_info": {
      "codemirror_mode": {
        "name": "ipython",
        "version": 3
      },
      "file_extension": ".py",
      "mimetype": "text/x-python",
      "name": "python",
      "nbconvert_exporter": "python",
      "pygments_lexer": "ipython3",
      "version": "3.10.12"
    }
  },
  "nbformat": 4,
  "nbformat_minor": 5
}