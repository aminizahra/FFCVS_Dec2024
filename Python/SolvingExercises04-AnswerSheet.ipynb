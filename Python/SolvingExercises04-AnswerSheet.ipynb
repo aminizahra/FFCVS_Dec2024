{
 "cells": [
  {
   "cell_type": "markdown",
   "id": "7f2b7807",
   "metadata": {},
   "source": [
    "<div style=\"background-color:#f3e5f5; color:black; padding:20px; border-radius:15px; border: 1px solid #ccc; box-shadow: 0 2px 4px rgba(0,0,0,0.1);text-align:center\">\n",
    "  <h2 style=\"margin-top: 0;text-align:center\">Exercises 01</h2>\n",
    "  <p style=\"font-size:16px;text-align:center\">inheritance</p><br>\n",
    "    800\n",
    "</div>"
   ]
  },
  {
   "cell_type": "markdown",
   "id": "26ecbd6b",
   "metadata": {},
   "source": [
    "<div style=\"background-color:#f3e5f5; color:black; padding:20px; border-radius:15px; border: 1px solid #ccc; box-shadow: 0 2px 4px rgba(0,0,0,0.1);\">\n",
    "  <h2 style=\"margin-top: 0;\">Exercises 01</h2>\n",
    "</div>"
   ]
  },
  {
   "cell_type": "code",
   "execution_count": 1,
   "id": "93372f8e",
   "metadata": {},
   "outputs": [],
   "source": [
    "class Animal:\n",
    "    def __init__(self, category, breed, size, age, color):\n",
    "        self.category = category\n",
    "        self.breed = breed\n",
    "        self.size = size\n",
    "        self.age = age\n",
    "        self.color = color\n",
    "        \n",
    "    def eat(self):\n",
    "        return \"Eating\"\n",
    "    \n",
    "    def sleep(self):\n",
    "        return \"Sleeping\"\n",
    "    \n",
    "    def sit(self):\n",
    "        return \"Sitting\"\n",
    "    \n",
    "    def run(self):\n",
    "        return \"Running\"\n",
    "    \n",
    "    def __str__(self):\n",
    "        return f\"Category: {self.category}, Breed: {self.breed}, Size: {self.size}, Age: {self.age}, Color: {self.color}\"\n",
    "    "
   ]
  },
  {
   "cell_type": "code",
   "execution_count": 5,
   "id": "87d73942",
   "metadata": {},
   "outputs": [],
   "source": [
    "class Pet(Animal):\n",
    "    def __init__(self, category, breed, size, age, color, name, owner, health_card_num):\n",
    "        super().__init__(category, breed, size, age, color)\n",
    "        self.name = name\n",
    "        self.owner = owner\n",
    "        self.health_card_num = health_card_num\n",
    "        \n",
    "    def hug(self):\n",
    "        return \"Hugging Owner\"\n",
    "    \n",
    "    def bring(self):\n",
    "        return \"Bringing ball\"\n",
    "    \n",
    "    def __str__(self):\n",
    "        return f\"{super().__str__()}, name: {self.name}, owner: {self.owner}, H_C_N: {self.health_card_num}\""
   ]
  },
  {
   "cell_type": "code",
   "execution_count": 8,
   "id": "1a0abbc8",
   "metadata": {},
   "outputs": [],
   "source": [
    "class Wild(Animal):\n",
    "    def __init__(self, category, breed, size, age, color, jungle_name):\n",
    "        super().__init__(category, breed, size, age, color)\n",
    "        self.jungle_name = jungle_name\n",
    "        \n",
    "    def kill(self):\n",
    "        return \"Killing\"\n",
    "    \n",
    "    def hunt(self):\n",
    "        return \"Hunting\"\n",
    "    \n",
    "    def __str__(self):\n",
    "        return f\"{super().__str__()}, Jungle_Name: {self.jungle_name}\""
   ]
  },
  {
   "cell_type": "code",
   "execution_count": 7,
   "id": "d05386e1",
   "metadata": {},
   "outputs": [
    {
     "data": {
      "text/plain": [
       "'Category: Bird, Breed: Golden, Size: Large, Age: 2, Color: yellow, name: ghanary, owner: X, H_C_N: 123'"
      ]
     },
     "execution_count": 7,
     "metadata": {},
     "output_type": "execute_result"
    }
   ],
   "source": [
    "# category, breed, size, age, color, name, owner, health_card_num\n",
    "pet = Pet(\"Bird\", \"Golden\", \"Large\", \"2\", \"yellow\", \"ghanary\", \"X\", \"123\")\n",
    "\n",
    "pet.__str__()"
   ]
  },
  {
   "cell_type": "code",
   "execution_count": 9,
   "id": "4d8d75a8",
   "metadata": {},
   "outputs": [
    {
     "data": {
      "text/plain": [
       "'Category: XX, Breed: Lion, Size: Large, Age: 10, Color: Yellow, Jungle_Name: Shir_Shah'"
      ]
     },
     "execution_count": 9,
     "metadata": {},
     "output_type": "execute_result"
    }
   ],
   "source": [
    "wild = Wild(\"XX\", \"Lion\", 'Large', \"10\", \"Yellow\", \"Shir_Shah\")\n",
    "\n",
    "wild.__str__()"
   ]
  },
  {
   "cell_type": "code",
   "execution_count": 16,
   "id": "a2fe59cf",
   "metadata": {},
   "outputs": [],
   "source": [
    "def sum_add(x, y):\n",
    "    print(\"x:\",x, \"y:\", y)\n",
    "    return x + y"
   ]
  },
  {
   "cell_type": "code",
   "execution_count": 17,
   "id": "1e7801e6",
   "metadata": {},
   "outputs": [
    {
     "name": "stdout",
     "output_type": "stream",
     "text": [
      "x: 10 y: 2\n"
     ]
    },
    {
     "data": {
      "text/plain": [
       "12"
      ]
     },
     "execution_count": 17,
     "metadata": {},
     "output_type": "execute_result"
    }
   ],
   "source": [
    "sum_add(y=2, x=10)"
   ]
  },
  {
   "cell_type": "code",
   "execution_count": null,
   "id": "fafdf141",
   "metadata": {},
   "outputs": [],
   "source": []
  }
 ],
 "metadata": {
  "kernelspec": {
   "display_name": "Python 3 (ipykernel)",
   "language": "python",
   "name": "python3"
  },
  "language_info": {
   "codemirror_mode": {
    "name": "ipython",
    "version": 3
   },
   "file_extension": ".py",
   "mimetype": "text/x-python",
   "name": "python",
   "nbconvert_exporter": "python",
   "pygments_lexer": "ipython3",
   "version": "3.11.4"
  }
 },
 "nbformat": 4,
 "nbformat_minor": 5
}
