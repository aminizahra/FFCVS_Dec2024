{
 "cells": [
  {
   "cell_type": "markdown",
   "id": "6ce18987",
   "metadata": {},
   "source": [
    "<div style=\"background-color:#f3e5f5; color:black; padding:20px; border-radius:15px; border: 1px solid #ccc; box-shadow: 0 2px 4px rgba(0,0,0,0.1);text-align:center\">\n",
    "  <h2 style=\"margin-top: 0;text-align:center\">Exercises 01</h2>\n",
    "  <p style=\"font-size:16px;text-align:center\">Basics, Control Flow & Iteration and Operators</p><br>\n",
    "    2000\n",
    "</div>"
   ]
  },
  {
   "attachments": {},
   "cell_type": "markdown",
   "id": "45fe2a55",
   "metadata": {},
   "source": [
    "<div style=\"background-color:#f3e5f5; color:black; padding:20px; border-radius:15px; border: 1px solid #ccc; box-shadow: 0 2px 4px rgba(0,0,0,0.1);\">\n",
    "  <h2 style=\"margin-top: 0;\">Exercises 01</h2>\n",
    "    <p style=\"font-size:16px;\"><b>What is the type of the following data?</b></p><br>\n",
    "1.\"Filoger\"<br>\n",
    "2.\"19.0\"<br>\n",
    "3.18<br>\n",
    "4.13.0<br>\n",
    "5.True<br>\n",
    "</div>"
   ]
  },
  {
   "cell_type": "code",
   "execution_count": 1,
   "id": "7dd15a85",
   "metadata": {},
   "outputs": [],
   "source": [
    "v1 = \"Filoger\"\n",
    "v2 = \"19.0\"\n",
    "v3 = 18\n",
    "v4 = 13.0\n",
    "v5 = True"
   ]
  },
  {
   "cell_type": "code",
   "execution_count": 2,
   "id": "483dcfd6",
   "metadata": {},
   "outputs": [
    {
     "name": "stdout",
     "output_type": "stream",
     "text": [
      "type of 'Filoger' is <class 'str'>.\n",
      "type of '19.0' is <class 'str'>.\n",
      "type of '18' is <class 'int'>.\n",
      "type of '13.0' is <class 'float'>.\n",
      "type of 'True' is <class 'bool'>.\n"
     ]
    }
   ],
   "source": [
    "print(\"type of '{}' is {}.\".format(v1, type(v1)))\n",
    "print(\"type of '{}' is {}.\".format(v2, type(v2)))\n",
    "print(\"type of '{}' is {}.\".format(v3, type(v3)))\n",
    "print(\"type of '{}' is {}.\".format(v4, type(v4)))\n",
    "print(\"type of '{}' is {}.\".format(v5, type(v5)))"
   ]
  },
  {
   "cell_type": "code",
   "execution_count": 3,
   "id": "39d43767",
   "metadata": {},
   "outputs": [
    {
     "name": "stdout",
     "output_type": "stream",
     "text": [
      "type of 'Filoger'is str.\n"
     ]
    }
   ],
   "source": [
    "print(\"type of '{}'is {}.\".format(v1, type(v1).__name__))"
   ]
  },
  {
   "cell_type": "markdown",
   "id": "8e41cccd",
   "metadata": {},
   "source": [
    "<div style=\"background-color:#f3e5f5; color:black; padding:20px; border-radius:15px; border: 1px solid #ccc; box-shadow: 0 2px 4px rgba(0,0,0,0.1);\">\n",
    "  <h2 style=\"margin-top: 0;\">Exercises 02</h2>\n",
    "    <p style=\"font-size:16px;\"><b>Convert the following data to integer?</b></p><br>\n",
    "1.\"Filoger\"<br>\n",
    "2.\"19.0\"<br>\n",
    "3.18<br>\n",
    "4.13.0<br>\n",
    "5.True<br>\n",
    "</div>"
   ]
  },
  {
   "cell_type": "code",
   "execution_count": 4,
   "id": "f01ffe77",
   "metadata": {},
   "outputs": [],
   "source": [
    "# print(\"int of {}: {}\".format(var1, int(var1)))  #Value Error"
   ]
  },
  {
   "cell_type": "code",
   "execution_count": 5,
   "id": "efdc3222",
   "metadata": {},
   "outputs": [
    {
     "name": "stdout",
     "output_type": "stream",
     "text": [
      "Can not convert the *str* to int. \n"
     ]
    }
   ],
   "source": [
    "try:\n",
    "    value = int(v1)\n",
    "    print(f\"The number you entered is {value}\")\n",
    "except ValueError:\n",
    "    # Handling the error\n",
    "    print(\"Can not convert the *{}* to int. \".format(type(v1).__name__))"
   ]
  },
  {
   "cell_type": "code",
   "execution_count": 6,
   "id": "3caccae9",
   "metadata": {},
   "outputs": [
    {
     "name": "stdout",
     "output_type": "stream",
     "text": [
      "int of 19.0 is 19.\n"
     ]
    }
   ],
   "source": [
    "num = float(v2)\n",
    "num = int(num)\n",
    "\n",
    "print(\"int of {} is {}.\".format(v2, num))"
   ]
  },
  {
   "cell_type": "code",
   "execution_count": 7,
   "id": "694acfca",
   "metadata": {},
   "outputs": [
    {
     "name": "stdout",
     "output_type": "stream",
     "text": [
      "int of 18 is 18.\n"
     ]
    }
   ],
   "source": [
    "print(\"int of {} is {}.\".format(v3, int(v3)))"
   ]
  },
  {
   "cell_type": "code",
   "execution_count": 8,
   "id": "d99f6fda",
   "metadata": {},
   "outputs": [
    {
     "name": "stdout",
     "output_type": "stream",
     "text": [
      "int of 13.0 is 13.\n"
     ]
    }
   ],
   "source": [
    "print(\"int of {} is {}.\".format(v4, int(v4)))"
   ]
  },
  {
   "cell_type": "code",
   "execution_count": 9,
   "id": "b14e1946",
   "metadata": {},
   "outputs": [
    {
     "name": "stdout",
     "output_type": "stream",
     "text": [
      "int of True is 1.\n"
     ]
    }
   ],
   "source": [
    "print(\"int of {} is {}.\".format(v5, int(v5)))"
   ]
  },
  {
   "cell_type": "markdown",
   "id": "3bd2ebb5",
   "metadata": {},
   "source": [
    "<div style=\"background-color:#f3e5f5; color:black; padding:20px; border-radius:15px; border: 1px solid #ccc; box-shadow: 0 2px 4px rgba(0,0,0,0.1);\">\n",
    "  <h2 style=\"margin-top: 0;\">Exercises 03</h2>\n",
    "    <p style=\"font-size:16px;\"><b>Print running time of program to find type of the following data?</b></p><br>\n",
    "1.\"Filoger\"<br>\n",
    "2.\"19.0\"<br>\n",
    "3.18<br>\n",
    "4.13.0<br>\n",
    "5.True<br>\n",
    "</div>"
   ]
  },
  {
   "cell_type": "code",
   "execution_count": 10,
   "id": "c5e69d79",
   "metadata": {},
   "outputs": [],
   "source": [
    "from time import *"
   ]
  },
  {
   "cell_type": "code",
   "execution_count": 11,
   "id": "cf943a70",
   "metadata": {},
   "outputs": [
    {
     "name": "stdout",
     "output_type": "stream",
     "text": [
      "running time of program (checking type of Filoger): 0.0\n"
     ]
    }
   ],
   "source": [
    "start = time()\n",
    "type(v1)\n",
    "end = time()\n",
    "print(\"running time of program (checking type of {}): {}\".format(v1, end-start))"
   ]
  },
  {
   "cell_type": "code",
   "execution_count": 12,
   "id": "332f6133",
   "metadata": {},
   "outputs": [
    {
     "name": "stdout",
     "output_type": "stream",
     "text": [
      "running time of program (checking type of 19.0): 0.0\n"
     ]
    }
   ],
   "source": [
    "start = time()\n",
    "type(v2)\n",
    "end = time()\n",
    "print(\"running time of program (checking type of {}): {}\".format(v2, end-start))"
   ]
  },
  {
   "cell_type": "code",
   "execution_count": 13,
   "id": "ef73a5e8",
   "metadata": {},
   "outputs": [
    {
     "name": "stdout",
     "output_type": "stream",
     "text": [
      "running time of program (checking type of 18): 0.0010004043579101562\n"
     ]
    }
   ],
   "source": [
    "start = time()\n",
    "type(v3)\n",
    "end = time()\n",
    "print(\"running time of program (checking type of {}): {}\".format(v3, end-start))"
   ]
  },
  {
   "cell_type": "code",
   "execution_count": 14,
   "id": "a4e2f567",
   "metadata": {},
   "outputs": [
    {
     "name": "stdout",
     "output_type": "stream",
     "text": [
      "running time of program (checking type of 13.0): 0.0009963512420654297\n"
     ]
    }
   ],
   "source": [
    "start = time()\n",
    "type(v4)\n",
    "end = time()\n",
    "print(\"running time of program (checking type of {}): {}\".format(v4, end-start))"
   ]
  },
  {
   "cell_type": "code",
   "execution_count": 15,
   "id": "adf93aaf",
   "metadata": {},
   "outputs": [
    {
     "name": "stdout",
     "output_type": "stream",
     "text": [
      "running time of program (checking type of True): 0.0009996891021728516\n"
     ]
    }
   ],
   "source": [
    "start = time()\n",
    "type(v5)\n",
    "end = time()\n",
    "print(\"running time of program (checking type of {}): {}\".format(v5, end-start))"
   ]
  },
  {
   "cell_type": "markdown",
   "id": "ed7fe027",
   "metadata": {},
   "source": [
    "<div style=\"background-color:#f3e5f5; color:black; padding:20px; border-radius:15px; border: 1px solid #ccc; box-shadow: 0 2px 4px rgba(0,0,0,0.1);\">\n",
    "  <h2 style=\"margin-top: 0;\">Exercises 04</h2>\n",
    "    <p style=\"font-size:16px;\"><b>Get a number as circle diameter, and calculate the circle area!</b></p><br>\n",
    "    <b>Points:</b><br> \n",
    "  Use input method to get circle diameter!<br>\n",
    "  Use str.format() method to print the output!<br>\n",
    "  Output must be same as following example, exactly!\n",
    "<br><br>\n",
    "Example: input: 18 , output (print): Circle area is 254.469 \n",
    "</div>"
   ]
  },
  {
   "cell_type": "code",
   "execution_count": 16,
   "id": "2b6a481e",
   "metadata": {},
   "outputs": [],
   "source": [
    "import math"
   ]
  },
  {
   "cell_type": "code",
   "execution_count": 17,
   "id": "2755c486",
   "metadata": {},
   "outputs": [
    {
     "name": "stdout",
     "output_type": "stream",
     "text": [
      "Please enter diameter of circle: 18\n"
     ]
    }
   ],
   "source": [
    "diameter = int(input(\"Please enter diameter of circle: \"))"
   ]
  },
  {
   "cell_type": "code",
   "execution_count": 18,
   "id": "5cafbcac",
   "metadata": {},
   "outputs": [
    {
     "name": "stdout",
     "output_type": "stream",
     "text": [
      "Circle area is 254.469\n"
     ]
    }
   ],
   "source": [
    "pi = math.pi\n",
    "radius = diameter / 2\n",
    "\n",
    "circle_area = radius ** 2 * pi\n",
    "circle_area = round(circle_area, 3)\n",
    "\n",
    "print(\"Circle area is {}\".format(circle_area))"
   ]
  },
  {
   "cell_type": "markdown",
   "id": "a72e3ce6",
   "metadata": {},
   "source": [
    "<div style=\"background-color:#f3e5f5; color:black; padding:20px; border-radius:15px; border: 1px solid #ccc; box-shadow: 0 2px 4px rgba(0,0,0,0.1);\">\n",
    "  <h2 style=\"margin-top: 0;\">Exercises 05</h2>\n",
    "    <p style=\"font-size:16px;\"><b>Get width, height and length ,then calculate and print the surface area and volume of a cuboid!</b></p><br>\n",
    "    <b>Points:</b><br> \n",
    "Use input method to get the inputs!<br>\n",
    "Use str.format() method to print the output!<br>\n",
    "Output must be same as following example, exactly!\n",
    "<br><br>\n",
    "Example: input1: 18, input2:4, input3:5 , output (print): Volume of cuboid is 360.00 and Surface area of cuboid is 364.000!\n",
    "</div>"
   ]
  },
  {
   "cell_type": "code",
   "execution_count": 19,
   "id": "c1443039",
   "metadata": {},
   "outputs": [
    {
     "name": "stdout",
     "output_type": "stream",
     "text": [
      "please enter width: 18\n",
      "please entet height: 4\n",
      "please entet length: 5\n"
     ]
    }
   ],
   "source": [
    "width = float(input(\"please enter width: \"))\n",
    "height = float(input(\"please entet height: \"))\n",
    "length = float(input(\"please entet length: \"))"
   ]
  },
  {
   "cell_type": "code",
   "execution_count": 20,
   "id": "261fb7ea",
   "metadata": {},
   "outputs": [
    {
     "name": "stdout",
     "output_type": "stream",
     "text": [
      "Volume of cuboid is 360.00 and Surface area of cuboid is 364.000!\n"
     ]
    }
   ],
   "source": [
    "volume = width * height * length # حجم\n",
    "\n",
    "area = (2 * length * width) + (2 * height * length) + (2 * height * width)\n",
    "\n",
    "print(\"Volume of cuboid is {:.2f} and Surface area of cuboid is {:.3f}!\".format(volume, area))"
   ]
  },
  {
   "cell_type": "markdown",
   "id": "cd6f5e37",
   "metadata": {},
   "source": [
    "<div style=\"background-color:#f3e5f5; color:black; padding:20px; border-radius:15px; border: 1px solid #ccc; box-shadow: 0 2px 4px rgba(0,0,0,0.1);\">\n",
    "  <h2 style=\"margin-top: 0;\">Exercises 06</h2>\n",
    "    <p style=\"font-size:16px;\"><b>input(2 number) and print sum, division, subtraction, multiplication</b></p><br>\n",
    "    <b>Points:</b><br> \n",
    "Use input method to get the inputs!<br>\n",
    "Use str.format() method to print the output!<br>\n",
    "Output must be same as following example, exactly!\n",
    "<br><br>\n",
    "Example:  input_1: 8, input_2: 4 , output: sum = 12, division=2, subtraction=4, multiplication=32\n",
    "</div>"
   ]
  },
  {
   "cell_type": "code",
   "execution_count": 21,
   "id": "b1c8830d",
   "metadata": {},
   "outputs": [
    {
     "name": "stdout",
     "output_type": "stream",
     "text": [
      "num1: 8\n",
      "num2: 4\n",
      "sum = 12, division=2, subtraction=4, multiplication=32\n"
     ]
    }
   ],
   "source": [
    "num1 = int(input(\"num1: \"))\n",
    "num2 = int(input(\"num2: \"))\n",
    "\n",
    "sum1 = num1 + num2\n",
    "\n",
    "div = num1 / num2\n",
    "\n",
    "div = int(div)\n",
    "\n",
    "sub = num1 - num2\n",
    "\n",
    "multi = num1 * num2\n",
    "\n",
    "print(\"sum = {}, division={}, subtraction={}, multiplication={}\".format(sum1, div, sub, multi))"
   ]
  },
  {
   "cell_type": "markdown",
   "id": "a8af6101",
   "metadata": {},
   "source": [
    "<div style=\"background-color:#f3e5f5; color:black; padding:20px; border-radius:15px; border: 1px solid #ccc; box-shadow: 0 2px 4px rgba(0,0,0,0.1);\">\n",
    "  <h2 style=\"margin-top: 0;\">Exercises 07</h2>\n",
    "    <p style=\"font-size:16px;\"><b>Get two string, concatenate them and print the result!</b></p><br>\n",
    "    <b>Points:</b><br> \n",
    "insert a space between two strings.\n",
    "Use input method to get the inputs!<br>\n",
    "Use str.format() method to print the output!<br>\n",
    "Output must be same as following example, exactly!\n",
    "<br><br>\n",
    "Example:  input_1: string_1 , input_2: string_2 , output: result is \"string_1 string_2\"\n",
    "</div>"
   ]
  },
  {
   "cell_type": "code",
   "execution_count": 22,
   "id": "2c9460f6",
   "metadata": {},
   "outputs": [
    {
     "name": "stdout",
     "output_type": "stream",
     "text": [
      "string1: string_1\n",
      "string2: string_2\n",
      "result is \"string_1 string_2\"\n"
     ]
    }
   ],
   "source": [
    "str1 = input(\"string1: \")\n",
    "str2 = input(\"string2: \")\n",
    "new_str = str1+\" \"+str2\n",
    "print('result is \"{}\"'.format(new_str))"
   ]
  },
  {
   "cell_type": "code",
   "execution_count": 23,
   "id": "7153000b",
   "metadata": {},
   "outputs": [],
   "source": [
    "#print('result is \"{} {}\"'.format(str1, str2))"
   ]
  },
  {
   "cell_type": "markdown",
   "id": "2cd23663",
   "metadata": {},
   "source": [
    "<div style=\"background-color:#f3e5f5; color:black; padding:20px; border-radius:15px; border: 1px solid #ccc; box-shadow: 0 2px 4px rgba(0,0,0,0.1);\">\n",
    "  <h2 style=\"margin-top: 0;\">Exercises 08</h2>\n",
    "    <p style=\"font-size:16px;\"><b>Write a Python program to convert Fahrenheit to Celcius.</b></p><br>\n",
    "    <b>Points:</b><br> \n",
    "Use input method to get the inputs!<br>\n",
    "Use str.format() method to print the output!<br>\n",
    "Output must be same as following example, exactly!\n",
    "<br><br>\n",
    "Example: input: 86 , output: 86 degree Fahrenheit is equal to 30.0 degree Celsius.\n",
    "</div>"
   ]
  },
  {
   "cell_type": "code",
   "execution_count": 24,
   "id": "95b34613",
   "metadata": {},
   "outputs": [
    {
     "name": "stdout",
     "output_type": "stream",
     "text": [
      "Farenheit: 86\n",
      "86 degree Fahrenheit is equal to 30.0 degree Celsius.\n"
     ]
    }
   ],
   "source": [
    "farenheit = int(input(\"Farenheit: \"))\n",
    "\n",
    "celsius = (farenheit - 32) / 1.8\n",
    "\n",
    "print(\"{} degree Fahrenheit is equal to {} degree Celsius.\".format(farenheit, celsius))"
   ]
  },
  {
   "cell_type": "markdown",
   "id": "40476733",
   "metadata": {},
   "source": [
    "<div style=\"background-color:#f3e5f5; color:black; padding:20px; border-radius:15px; border: 1px solid #ccc; box-shadow: 0 2px 4px rgba(0,0,0,0.1);\">\n",
    "  <h2 style=\"margin-top: 0;\">Exercises 09</h2>\n",
    "    <p style=\"font-size:16px;\"><b>Find the max element of the [ 8, 120, 83, 89, 24, 97.5, 201 ] </b></p><br>\n",
    "Example: output:201\n",
    "</div>"
   ]
  },
  {
   "cell_type": "code",
   "execution_count": 25,
   "id": "5e22dd6d",
   "metadata": {},
   "outputs": [
    {
     "name": "stdout",
     "output_type": "stream",
     "text": [
      "201\n"
     ]
    }
   ],
   "source": [
    "numbers = [8, 120, 83, 89, 24, 97.5, 201]\n",
    "\n",
    "max_num = numbers[0]\n",
    "\n",
    "for num in numbers:\n",
    "    if num > max_num:\n",
    "        max_num = num\n",
    "        \n",
    "print(max_num)"
   ]
  },
  {
   "cell_type": "markdown",
   "id": "1618ffa2",
   "metadata": {},
   "source": [
    "<div style=\"background-color:#f3e5f5; color:black; padding:20px; border-radius:15px; border: 1px solid #ccc; box-shadow: 0 2px 4px rgba(0,0,0,0.1);\">\n",
    "  <h2 style=\"margin-top: 0;\">Exercises 10</h2>\n",
    "    <p style=\"font-size:16px;\"><b>Write a program in Python to display the Factorial of a number.</b></p><br>\n",
    "    <b>Points:</b><br> \n",
    "Use input Method to get the number!<br>\n",
    "output: Factorial of {input number} is {result} !<br> \n",
    "output format must be same as the above format, exactly.\n",
    "<br><br>\n",
    "Example:input: 9 , output: Factorial of 9 is 362880\n",
    "</div>"
   ]
  },
  {
   "cell_type": "code",
   "execution_count": 26,
   "id": "c27eb139",
   "metadata": {},
   "outputs": [
    {
     "name": "stdout",
     "output_type": "stream",
     "text": [
      "number: 9\n",
      "Factorial of 9 is 362880 !\n"
     ]
    }
   ],
   "source": [
    "# 3! = 1 * 2 * 3\n",
    "# 1 ===> 1\n",
    "# 2 ===> 2\n",
    "# 3===> 6\n",
    "\n",
    "num = int(input(\"number: \"))\n",
    "\n",
    "factorial = 1\n",
    "\n",
    "for i in range(1, num + 1):\n",
    "    factorial *= i\n",
    "    \n",
    "print(\"Factorial of {} is {} !\".format(num, factorial))"
   ]
  },
  {
   "cell_type": "markdown",
   "id": "aa05d64a",
   "metadata": {},
   "source": [
    "<div style=\"background-color:#f3e5f5; color:black; padding:20px; border-radius:15px; border: 1px solid #ccc; box-shadow: 0 2px 4px rgba(0,0,0,0.1);\">\n",
    "  <h2 style=\"margin-top: 0;\">Exercises 11</h2>\n",
    "    <p style=\"font-size:16px;\"><b>Generate random integer number and Write a program to guess the number.</b></p><br>\n",
    "    <b>Points:</b><br> \n",
    "Use randint() to generate the random number between 1 to 100.<br>\n",
    "Use input Method to get the number!<br>\n",
    "if guessed number is higher than generated number, print \"Wrong, Guess the lower number!\"<br> \n",
    "if guessed number is lower than generated number, print \"Wrong, Guess the higher number!\"<br>\n",
    "if guessed number is equal to the generated number, print \"Correct, good job\"\n",
    "<br><br>\n",
    "Example:  Generated Number: 8 , Guessed Number: 26, output: Wrong, Guess the lower number!\n",
    "</div>"
   ]
  },
  {
   "cell_type": "code",
   "execution_count": 27,
   "id": "40e8f62f",
   "metadata": {},
   "outputs": [],
   "source": [
    "import random"
   ]
  },
  {
   "cell_type": "code",
   "execution_count": 28,
   "id": "72b1eb0d",
   "metadata": {},
   "outputs": [
    {
     "name": "stdout",
     "output_type": "stream",
     "text": [
      "Guess a number between 1 to 100: 26\n",
      "Wrong, Guess the higher number!\n",
      "Guess a number between 1 to 100: 50\n",
      "Wrong, Guess the lower number!\n",
      "Guess a number between 1 to 100: 30\n",
      "Wrong, Guess the higher number!\n",
      "Guess a number between 1 to 100: 40\n",
      "Wrong, Guess the lower number!\n",
      "Guess a number between 1 to 100: 35\n",
      "Wrong, Guess the higher number!\n",
      "Guess a number between 1 to 100: 36\n",
      "Wrong, Guess the higher number!\n",
      "Guess a number between 1 to 100: 38\n",
      "Correct, good job\n"
     ]
    }
   ],
   "source": [
    "random_number = random.randint(1, 100)\n",
    "flag = False\n",
    "\n",
    "while(not flag):\n",
    "    \n",
    "    guess_number = int(input(\"Guess a number between 1 to 100: \"))\n",
    "    \n",
    "    if guess_number == random_number:\n",
    "        print(\"Correct, good job\")\n",
    "        flag = True\n",
    "        \n",
    "    elif guess_number < random_number:\n",
    "        print(\"Wrong, Guess the higher number!\")\n",
    "            \n",
    "    elif guess_number > random_number:\n",
    "        print(\"Wrong, Guess the lower number!\")"
   ]
  },
  {
   "cell_type": "markdown",
   "id": "92090e61",
   "metadata": {},
   "source": [
    "<div style=\"background-color:#f3e5f5; color:black; padding:20px; border-radius:15px; border: 1px solid #ccc; box-shadow: 0 2px 4px rgba(0,0,0,0.1);\">\n",
    "  <h2 style=\"margin-top: 0;\">Exercises 12</h2>\n",
    "    <p style=\"font-size:16px;\"><b>Print the following pattern using loops.</b></p><br>\n",
    "\n",
    "0 x 0 = 0<br> \n",
    "1 x 1 = 1<br> \n",
    "2 x 2 = 4<br> \n",
    "3 x 3 = 9<br> \n",
    "4 x 4 = 16<br> \n",
    "5 x 5 = 25<br> \n",
    "6 x 6 = 36<br>\n",
    "7 x 7 = 49<br>\n",
    "8 x 8 = 64<br> \n",
    "9 x 9 = 81<br> \n",
    "10 x 10 = 100<br>\n",
    "</div>"
   ]
  },
  {
   "cell_type": "code",
   "execution_count": 29,
   "id": "69d9bcee",
   "metadata": {},
   "outputs": [
    {
     "name": "stdout",
     "output_type": "stream",
     "text": [
      "0 x 0 = 0\n",
      "1 x 1 = 1\n",
      "2 x 2 = 4\n",
      "3 x 3 = 9\n",
      "4 x 4 = 16\n",
      "5 x 5 = 25\n",
      "6 x 6 = 36\n",
      "7 x 7 = 49\n",
      "8 x 8 = 64\n",
      "9 x 9 = 81\n",
      "10 x 10 = 100\n"
     ]
    }
   ],
   "source": [
    "for i in range(11):\n",
    "    multi = i * i\n",
    "    print(\"{} x {} = {}\".format(i, i, multi))"
   ]
  },
  {
   "cell_type": "markdown",
   "id": "310edf6a",
   "metadata": {},
   "source": [
    "<div style=\"background-color:#f3e5f5; color:black; padding:20px; border-radius:15px; border: 1px solid #ccc; box-shadow: 0 2px 4px rgba(0,0,0,0.1);\">\n",
    "  <h2 style=\"margin-top: 0;\">Exercises 13</h2>\n",
    "    <p style=\"font-size:16px;\"><b>Use for loop to iterate from 0 to n (input number) and print the sum of all numbers.</b></p>\n",
    "    \n",
    "Example: Input Number: 100, output: The sum of all numbers is 5050.\n",
    "</div>"
   ]
  },
  {
   "cell_type": "code",
   "execution_count": 30,
   "id": "1b856851",
   "metadata": {},
   "outputs": [
    {
     "name": "stdout",
     "output_type": "stream",
     "text": [
      "number: 100\n",
      "The sum of all numbers is 5050.\n"
     ]
    }
   ],
   "source": [
    "# 3 ===> 0 + 1 + 2 + 3\n",
    "# n*(n+1)/2\n",
    "\n",
    "num = int(input(\"number: \"))\n",
    "sum_num = 0\n",
    "\n",
    "for n in range(1, num + 1):\n",
    "    sum_num += n\n",
    "print(\"The sum of all numbers is {}.\".format(sum_num))"
   ]
  },
  {
   "cell_type": "markdown",
   "id": "e9f3a039",
   "metadata": {},
   "source": [
    "<div style=\"background-color:#f3e5f5; color:black; padding:20px; border-radius:15px; border: 1px solid #ccc; box-shadow: 0 2px 4px rgba(0,0,0,0.1);\">\n",
    "  <h2 style=\"margin-top: 0;\">Exercises 13</h2>\n",
    "    <p style=\"font-size:16px;\"><b>This is a fruit list, ['banana', 'orange', 'mango', 'lemon'] reverse the order using loop.</b></p>\n",
    "    \n",
    "output: [ 'lemon', 'mango', 'orange', 'banana' ]\n",
    "</div>"
   ]
  },
  {
   "cell_type": "code",
   "execution_count": 31,
   "id": "839b2379",
   "metadata": {},
   "outputs": [
    {
     "name": "stdout",
     "output_type": "stream",
     "text": [
      "['banana', 'orange', 'mango', 'lemon']\n"
     ]
    }
   ],
   "source": [
    "fruits = [ 'lemon','mango','orange','banana' ]\n",
    "\n",
    "reverse_list = []\n",
    "\n",
    "for fruit in fruits: \n",
    "    #print(fruit)\n",
    "    reverse_list.insert(0, fruit) # index, item\n",
    "    \n",
    "print(reverse_list)"
   ]
  },
  {
   "cell_type": "markdown",
   "id": "8d58b20e",
   "metadata": {},
   "source": [
    "# Good Job!"
   ]
  }
 ],
 "metadata": {
  "kernelspec": {
   "display_name": "Python 3 (ipykernel)",
   "language": "python",
   "name": "python3"
  },
  "language_info": {
   "codemirror_mode": {
    "name": "ipython",
    "version": 3
   },
   "file_extension": ".py",
   "mimetype": "text/x-python",
   "name": "python",
   "nbconvert_exporter": "python",
   "pygments_lexer": "ipython3",
   "version": "3.11.4"
  }
 },
 "nbformat": 4,
 "nbformat_minor": 5
}
