{
 "cells": [
  {
   "cell_type": "markdown",
   "id": "1a3f1c94",
   "metadata": {},
   "source": [
    "<div style=\"background-color:#f3e5f5; color:black; padding:20px; border-radius:15px; border: 1px solid #ccc; box-shadow: 0 2px 4px rgba(0,0,0,0.1);text-align:center\">\n",
    "  <h2 style=\"margin-top: 0;text-align:center\">Exercises 02</h2>\n",
    "  <p style=\"font-size:16px;text-align:center\">List, Tuple, Dictionary, Set, String, Function, iteration, recursion, Exception\n",
    "Handling, and Files</p><br>\n",
    "    3350\n",
    "</div>"
   ]
  },
  {
   "cell_type": "markdown",
   "id": "9c7bd861",
   "metadata": {},
   "source": [
    "<div style=\"background-color:#f3e5f5; color:black; padding:20px; border-radius:15px; border: 1px solid #ccc; box-shadow: 0 2px 4px rgba(0,0,0,0.1);\">\n",
    "  <h2 style=\"margin-top: 0;\">Exercises 01</h2>\n",
    "    <p style=\"font-size:16px;\"><b>The following is a list of 10 students ages:</b></p><br>\n",
    "ages = [19, 22, 19, 24, 20, 25, 26, 24, 25, 24]<br><br>\n",
    "1.Sort the list and find the min and max age. (50)<br>\n",
    "2.Add the min age and the max age again to the list.(50)<br>\n",
    "3.Find the median age (one middle item or two middle items divided by two).(100)<br>\n",
    "4.Find the average age (sum of all items divided by their number ).(100)<br>\n",
    "5.Find the range of the ages (max minus min).(50)<br>\n",
    "6.Compare the value of (min - average) and (max - average), use abs() method.(100)<br>\n",
    "</div>"
   ]
  },
  {
   "cell_type": "code",
   "execution_count": 1,
   "id": "9a91d15b",
   "metadata": {},
   "outputs": [],
   "source": [
    "ages = [19, 22, 19, 24, 20, 25, 26, 24, 25, 24]"
   ]
  },
  {
   "cell_type": "markdown",
   "id": "3948e13e",
   "metadata": {},
   "source": [
    "#### 1.Sort the list and find the min and max age. (50)"
   ]
  },
  {
   "cell_type": "code",
   "execution_count": 2,
   "id": "8ce74cb2",
   "metadata": {},
   "outputs": [
    {
     "data": {
      "text/plain": [
       "[19, 19, 20, 22, 24, 24, 24, 25, 25, 26]"
      ]
     },
     "execution_count": 2,
     "metadata": {},
     "output_type": "execute_result"
    }
   ],
   "source": [
    "ages.sort()\n",
    "ages"
   ]
  },
  {
   "cell_type": "code",
   "execution_count": 3,
   "id": "02f94510",
   "metadata": {},
   "outputs": [
    {
     "data": {
      "text/plain": [
       "(26, 19)"
      ]
     },
     "execution_count": 3,
     "metadata": {},
     "output_type": "execute_result"
    }
   ],
   "source": [
    "max_age = ages[-1]\n",
    "\n",
    "# l = len(ages) - 1\n",
    "# max_age = ages[l]\n",
    "\n",
    "min_age = ages[0]\n",
    "\n",
    "max(ages),min(ages)"
   ]
  },
  {
   "cell_type": "markdown",
   "id": "7cf98660",
   "metadata": {},
   "source": [
    "#### 2.Add the min age and the max age again to the list.(50)"
   ]
  },
  {
   "cell_type": "code",
   "execution_count": 4,
   "id": "1cfffa36",
   "metadata": {},
   "outputs": [
    {
     "data": {
      "text/plain": [
       "[19, 19, 20, 22, 24, 24, 24, 25, 25, 26, 26, 19]"
      ]
     },
     "execution_count": 4,
     "metadata": {},
     "output_type": "execute_result"
    }
   ],
   "source": [
    "ages.append(max_age)\n",
    "ages.append(min_age)\n",
    "ages"
   ]
  },
  {
   "cell_type": "markdown",
   "id": "907db7f3",
   "metadata": {},
   "source": [
    "#### 3.Find the median age (one middle item or two middle items divided by two).(100)"
   ]
  },
  {
   "cell_type": "code",
   "execution_count": 5,
   "id": "9be06123",
   "metadata": {},
   "outputs": [
    {
     "name": "stdout",
     "output_type": "stream",
     "text": [
      "[19, 19, 19, 20, 22, 24, 24, 24, 25, 25, 26, 26]\n"
     ]
    }
   ],
   "source": [
    "ages.sort()\n",
    "print(ages)"
   ]
  },
  {
   "cell_type": "code",
   "execution_count": 6,
   "id": "5d4374ad",
   "metadata": {},
   "outputs": [
    {
     "data": {
      "text/plain": [
       "12"
      ]
     },
     "execution_count": 6,
     "metadata": {},
     "output_type": "execute_result"
    }
   ],
   "source": [
    "l = len(ages)\n",
    "l"
   ]
  },
  {
   "cell_type": "code",
   "execution_count": 7,
   "id": "a89c140e",
   "metadata": {},
   "outputs": [
    {
     "name": "stdout",
     "output_type": "stream",
     "text": [
      "24.0\n"
     ]
    }
   ],
   "source": [
    "if l % 2 == 0:\n",
    "    l = l // 2\n",
    "    median = (ages[l] + ages[l-1]) / 2\n",
    "else:\n",
    "    l = l // 2\n",
    "    median = ages[l]\n",
    "print(median)"
   ]
  },
  {
   "cell_type": "code",
   "execution_count": 8,
   "id": "5eb7bfc0",
   "metadata": {},
   "outputs": [
    {
     "data": {
      "text/plain": [
       "[19, 19, 19, 20, 22, 24, 24, 24, 25, 25, 26, 26]"
      ]
     },
     "execution_count": 8,
     "metadata": {},
     "output_type": "execute_result"
    }
   ],
   "source": [
    "ages"
   ]
  },
  {
   "cell_type": "code",
   "execution_count": 9,
   "id": "778e205e",
   "metadata": {},
   "outputs": [
    {
     "data": {
      "text/plain": [
       "6"
      ]
     },
     "execution_count": 9,
     "metadata": {},
     "output_type": "execute_result"
    }
   ],
   "source": [
    "mid = len(ages) // 2\n",
    "mid"
   ]
  },
  {
   "cell_type": "code",
   "execution_count": 10,
   "id": "9143603a",
   "metadata": {},
   "outputs": [
    {
     "data": {
      "text/plain": [
       "-7"
      ]
     },
     "execution_count": 10,
     "metadata": {},
     "output_type": "execute_result"
    }
   ],
   "source": [
    "~mid"
   ]
  },
  {
   "cell_type": "code",
   "execution_count": 11,
   "id": "1beeb10c",
   "metadata": {},
   "outputs": [
    {
     "name": "stdout",
     "output_type": "stream",
     "text": [
      "Median of list is : 24.0\n"
     ]
    }
   ],
   "source": [
    "res = (ages[mid] + ages[~mid]) / 2\n",
    "\n",
    "print(\"Median of list is : \" + str(res)) "
   ]
  },
  {
   "cell_type": "markdown",
   "id": "30120d60",
   "metadata": {},
   "source": [
    "#### 4.Find the average age (sum of all items divided by their number ).(100)"
   ]
  },
  {
   "cell_type": "code",
   "execution_count": 12,
   "id": "44b53df7",
   "metadata": {},
   "outputs": [
    {
     "name": "stdout",
     "output_type": "stream",
     "text": [
      "Average of ages: 22.75\n"
     ]
    }
   ],
   "source": [
    "avg = sum(ages) / len(ages)\n",
    "print(f\"Average of ages: {avg}\")"
   ]
  },
  {
   "cell_type": "markdown",
   "id": "e7adf13e",
   "metadata": {},
   "source": [
    "#### 5.Find the range of the ages (max minus min).(50)"
   ]
  },
  {
   "cell_type": "code",
   "execution_count": 13,
   "id": "681b407b",
   "metadata": {},
   "outputs": [
    {
     "name": "stdout",
     "output_type": "stream",
     "text": [
      "7\n"
     ]
    }
   ],
   "source": [
    "range_ages = max_age - min_age\n",
    "print(range_ages)"
   ]
  },
  {
   "cell_type": "markdown",
   "id": "7cf648d8",
   "metadata": {},
   "source": [
    "#### 6.Compare the value of (min - average) and (max - average), use abs() method.(100)"
   ]
  },
  {
   "cell_type": "code",
   "execution_count": 14,
   "id": "d279ca06",
   "metadata": {},
   "outputs": [
    {
     "name": "stdout",
     "output_type": "stream",
     "text": [
      "min_avg > max_avg (3.75 > 3.25)\n"
     ]
    }
   ],
   "source": [
    "min_avg = abs(min_age - avg)\n",
    "max_avg = max_age - avg\n",
    "\n",
    "if min_avg > max_avg:\n",
    "    print(f\"min_avg > max_avg ({min_avg} > {max_avg})\")\n",
    "elif min_avg < max_avg:\n",
    "    print(f\"min_avg < max_avg ({min_avg} < {max_avg})\")\n",
    "else:\n",
    "    print(\"Both of them are equal\")"
   ]
  },
  {
   "cell_type": "markdown",
   "id": "5e1a14e3",
   "metadata": {},
   "source": [
    "<div style=\"background-color:#f3e5f5; color:black; padding:20px; border-radius:15px; border: 1px solid #ccc; box-shadow: 0 2px 4px rgba(0,0,0,0.1);\">\n",
    "  <h2 style=\"margin-top: 0;\">Exercises 02</h2>\n",
    "    <p style=\"font-size:16px;\"><b>Tuple</b></p><br>\n",
    "1.Create an empty tuple (50)<br>\n",
    "2.Create a tuple containing names of your sisters and your brothers, separately (imaginary siblings are fine) (100)<br>\n",
    "3.Join brothers and sisters tuples and assign it to siblings (100)<br>\n",
    "4.How many siblings do you have? (50)<br>\n",
    "5.Modify the siblings tuple and add the name of your father and mother and assign it to family_members (100)<br>\n",
    "</div>"
   ]
  },
  {
   "cell_type": "markdown",
   "id": "ffe4881f",
   "metadata": {},
   "source": [
    "#### 1.Create an empty tuple (50)"
   ]
  },
  {
   "cell_type": "code",
   "execution_count": 15,
   "id": "f542798a",
   "metadata": {},
   "outputs": [],
   "source": [
    "t = tuple()"
   ]
  },
  {
   "cell_type": "markdown",
   "id": "18788f56",
   "metadata": {},
   "source": [
    "#### 2.Create a tuple containing names of your sisters and your brothers, separately (imaginary siblings are fine) (100)"
   ]
  },
  {
   "cell_type": "code",
   "execution_count": 16,
   "id": "80a8cac4",
   "metadata": {},
   "outputs": [],
   "source": [
    "brothers = (\"Ali\", \"Saeed\" )\n",
    "sisters = (\"Sanaz\",)"
   ]
  },
  {
   "cell_type": "markdown",
   "id": "7dc84a13",
   "metadata": {},
   "source": [
    "#### 3.Join brothers and sisters tuples and assign it to siblings (100)"
   ]
  },
  {
   "cell_type": "code",
   "execution_count": 17,
   "id": "a97a5505",
   "metadata": {},
   "outputs": [],
   "source": [
    "siblings = brothers + sisters"
   ]
  },
  {
   "cell_type": "markdown",
   "id": "50ea1229",
   "metadata": {},
   "source": [
    "#### 4.How many siblings do you have? (50)"
   ]
  },
  {
   "cell_type": "code",
   "execution_count": 18,
   "id": "0cc06a5c",
   "metadata": {},
   "outputs": [
    {
     "name": "stdout",
     "output_type": "stream",
     "text": [
      "I have 3 siblings.2 brothers and 1 sisters\n"
     ]
    }
   ],
   "source": [
    "num_sib = len(siblings)\n",
    "num_br = len(brothers)\n",
    "num_sis = len(sisters)\n",
    "\n",
    "print(\"I have {} siblings.{} brothers and {} sisters\".format(num_sib, num_br, num_sis))"
   ]
  },
  {
   "cell_type": "markdown",
   "id": "c4a4a07e",
   "metadata": {},
   "source": [
    "#### 5.Modify the siblings tuple and add the name of your father and mother and assign it to family_members (100)"
   ]
  },
  {
   "cell_type": "code",
   "execution_count": 19,
   "id": "b4c90ed3",
   "metadata": {},
   "outputs": [],
   "source": [
    "## Modify: Convert the tuple into a list to be able to change it\n",
    "siblings = list(siblings)"
   ]
  },
  {
   "cell_type": "code",
   "execution_count": 20,
   "id": "25084fdf",
   "metadata": {},
   "outputs": [],
   "source": [
    "## Add new values\n",
    "siblings.append(\"Mohammad\")\n",
    "siblings.append(\"Zamzam\")"
   ]
  },
  {
   "cell_type": "code",
   "execution_count": 21,
   "id": "95e1586b",
   "metadata": {},
   "outputs": [
    {
     "name": "stdout",
     "output_type": "stream",
     "text": [
      "('Ali', 'Saeed', 'Sanaz', 'Mohammad', 'Zamzam')\n"
     ]
    }
   ],
   "source": [
    "## Modify\n",
    "family_members = tuple(siblings)\n",
    "print(family_members)"
   ]
  },
  {
   "cell_type": "markdown",
   "id": "bc09baa9",
   "metadata": {},
   "source": [
    "<div style=\"background-color:#f3e5f5; color:black; padding:20px; border-radius:15px; border: 1px solid #ccc; box-shadow: 0 2px 4px rgba(0,0,0,0.1);\">\n",
    "  <h2 style=\"margin-top: 0;\">Exercises 03</h2>\n",
    "    <p style=\"font-size:16px;\"><b>Dictionary</b></p><br>\n",
    "1.Create a student dictionary and add first_name, last_name, gender, age, skills, country, city and address as keys for the dictionary (100)<br>\n",
    "2.Get the length of the student dictionary (50)<br>\n",
    "3.Get the value of skills and check the data type, it should be a list (50)<br>\n",
    "4.Modify the skills values by adding one or two skills (100)<br>\n",
    "5.Get the dictionary keys as a list (100)<br>\n",
    "6.Get the dictionary values as a list (100)<br>\n",
    "7.Change the dictionary to a list of tuples using items() method (50)<br>\n",
    "8.Delete one of the items in the dictionary(50)<br>\n",
    "9.Delete one of the dictionaries(50)<br>\n",
    "</div>"
   ]
  },
  {
   "cell_type": "markdown",
   "id": "cf955a23",
   "metadata": {},
   "source": [
    "#### 1.Create a student dictionary and add first_name, last_name, gender, age, skills, country, city and address as keys for the dictionary (100)"
   ]
  },
  {
   "cell_type": "code",
   "execution_count": 22,
   "id": "2bd83cff",
   "metadata": {},
   "outputs": [],
   "source": [
    "students = {\n",
    "  \"first_name\": \"Fatemeh\",\n",
    "  \"last_name\": \"Korani\",\n",
    "  \"gender\": \"female\",\n",
    "  \"age\": 20,\n",
    "  \"marital status\": \"Single\",\n",
    "  \"skills\": [\"R\", \"Python\"],\n",
    "  \"country\": \"Iran\",\n",
    "  \"city\": \"Tehran\",\n",
    "  \"address\": \"Zaferaniyeh\"\n",
    "}"
   ]
  },
  {
   "cell_type": "markdown",
   "id": "fc494d7a",
   "metadata": {},
   "source": [
    "#### 2.Get the length of the student dictionary (50)"
   ]
  },
  {
   "cell_type": "code",
   "execution_count": 23,
   "id": "ffb95b57",
   "metadata": {},
   "outputs": [
    {
     "name": "stdout",
     "output_type": "stream",
     "text": [
      "length of dictinary: 9\n",
      "\n"
     ]
    }
   ],
   "source": [
    "print(f\"length of dictinary: {len(students)}\\n\")"
   ]
  },
  {
   "cell_type": "markdown",
   "id": "069098f4",
   "metadata": {},
   "source": [
    "#### 3.Get the value of skills and check the data type, it should be a list (50)"
   ]
  },
  {
   "cell_type": "code",
   "execution_count": 24,
   "id": "b6522683",
   "metadata": {},
   "outputs": [
    {
     "name": "stdout",
     "output_type": "stream",
     "text": [
      "skills of student: ['R', 'Python']\n",
      "<class 'list'> \n",
      "\n"
     ]
    }
   ],
   "source": [
    "skills = students[\"skills\"]\n",
    "print(f\"skills of student: {skills}\")\n",
    "print(type(skills), \"\\n\")"
   ]
  },
  {
   "cell_type": "markdown",
   "id": "7120fb2c",
   "metadata": {},
   "source": [
    "#### 4.Modify the skills values by adding one or two skills (100)"
   ]
  },
  {
   "cell_type": "code",
   "execution_count": 25,
   "id": "86d6e25f",
   "metadata": {},
   "outputs": [
    {
     "name": "stdout",
     "output_type": "stream",
     "text": [
      "updated skills of student: ['R', 'Python', 'ML', 'DL']\n",
      "\n"
     ]
    }
   ],
   "source": [
    "students[\"skills\"].append(\"ML\")\n",
    "students[\"skills\"].append(\"DL\")\n",
    "skills = students[\"skills\"]\n",
    "print(f\"updated skills of student: {skills}\\n\")"
   ]
  },
  {
   "cell_type": "markdown",
   "id": "494009e8",
   "metadata": {},
   "source": [
    "#### 5.Get the dictionary keys as a list (100)"
   ]
  },
  {
   "cell_type": "code",
   "execution_count": 26,
   "id": "0cf07519",
   "metadata": {},
   "outputs": [
    {
     "name": "stdout",
     "output_type": "stream",
     "text": [
      "['first_name', 'last_name', 'gender', 'age', 'marital status', 'skills', 'country', 'city', 'address']\n"
     ]
    }
   ],
   "source": [
    "keys_list = list(students.keys())\n",
    "print(keys_list)"
   ]
  },
  {
   "cell_type": "markdown",
   "id": "4328eada",
   "metadata": {},
   "source": [
    "#### 6.Get the dictionary values as a list (100)"
   ]
  },
  {
   "cell_type": "code",
   "execution_count": 27,
   "id": "a1cf239e",
   "metadata": {},
   "outputs": [
    {
     "name": "stdout",
     "output_type": "stream",
     "text": [
      "['Fatemeh', 'Korani', 'female', 20, 'Single', ['R', 'Python', 'ML', 'DL'], 'Iran', 'Tehran', 'Zaferaniyeh']\n"
     ]
    }
   ],
   "source": [
    "values_list = list(students.values())\n",
    "print(values_list)"
   ]
  },
  {
   "cell_type": "markdown",
   "id": "efa0ee8c",
   "metadata": {},
   "source": [
    "#### 7.Change the dictionary to a list of tuples using items() method (50)"
   ]
  },
  {
   "cell_type": "code",
   "execution_count": 28,
   "id": "8d241ced",
   "metadata": {},
   "outputs": [
    {
     "name": "stdout",
     "output_type": "stream",
     "text": [
      "[('first_name', 'Fatemeh'), ('last_name', 'Korani'), ('gender', 'female'), ('age', 20), ('marital status', 'Single'), ('skills', ['R', 'Python', 'ML', 'DL']), ('country', 'Iran'), ('city', 'Tehran'), ('address', 'Zaferaniyeh')]\n"
     ]
    }
   ],
   "source": [
    "items_list = list(students.items())\n",
    "print(items_list)"
   ]
  },
  {
   "cell_type": "markdown",
   "id": "66905515",
   "metadata": {},
   "source": [
    "#### 8.Delete one of the items in the dictionary(50)"
   ]
  },
  {
   "cell_type": "code",
   "execution_count": 29,
   "id": "044cc224",
   "metadata": {},
   "outputs": [
    {
     "name": "stdout",
     "output_type": "stream",
     "text": [
      "{'first_name': 'Fatemeh', 'last_name': 'Korani', 'gender': 'female', 'marital status': 'Single', 'skills': ['R', 'Python', 'ML', 'DL'], 'country': 'Iran', 'city': 'Tehran', 'address': 'Zaferaniyeh'}\n"
     ]
    }
   ],
   "source": [
    "students.pop(\"age\")\n",
    "print(students)"
   ]
  },
  {
   "cell_type": "markdown",
   "id": "5d620a74",
   "metadata": {},
   "source": [
    "#### 9.Delete one of the dictionaries(50)"
   ]
  },
  {
   "cell_type": "code",
   "execution_count": 30,
   "id": "df524213",
   "metadata": {},
   "outputs": [],
   "source": [
    "del students"
   ]
  },
  {
   "cell_type": "markdown",
   "id": "3f07b561",
   "metadata": {},
   "source": [
    "<div style=\"background-color:#f3e5f5; color:black; padding:20px; border-radius:15px; border: 1px solid #ccc; box-shadow: 0 2px 4px rgba(0,0,0,0.1);\">\n",
    "  <h2 style=\"margin-top: 0;\">Exercises 04</h2>\n",
    "    <p style=\"font-size:16px;\"><b>Set</b></p><br>\n",
    " \n",
    "1.Find the length of the set it_companies (50)<br>\n",
    "2.Add 'Twitter' to it_companies (50)<br>\n",
    "3.Insert multiple IT companies at once to the set it_companies (100)<br>\n",
    "4.Remove one of the companies from the set it_companies(50)<br>\n",
    "5.What is the difference between remove and discard (100)\n",
    "<br><br>\n",
    "it_companies = {'Facebook', 'Google', 'Microsoft', 'Apple', 'IBM', 'Oracle', 'Amazon'} \n",
    "</div>"
   ]
  },
  {
   "cell_type": "code",
   "execution_count": 31,
   "id": "7620675a",
   "metadata": {},
   "outputs": [],
   "source": [
    "it_companies = {'Facebook','Google','Microsoft','Apple','IBM','Oracle','Amazon'}"
   ]
  },
  {
   "cell_type": "markdown",
   "id": "d5bb3bf4",
   "metadata": {},
   "source": [
    "#### 1.Find the length of the set it_companies (50)"
   ]
  },
  {
   "cell_type": "code",
   "execution_count": 32,
   "id": "ad881e4f",
   "metadata": {},
   "outputs": [
    {
     "data": {
      "text/plain": [
       "7"
      ]
     },
     "execution_count": 32,
     "metadata": {},
     "output_type": "execute_result"
    }
   ],
   "source": [
    "len(it_companies)"
   ]
  },
  {
   "cell_type": "markdown",
   "id": "99ad32ea",
   "metadata": {},
   "source": [
    "#### 2.Add 'Twitter' to it_companies (50)"
   ]
  },
  {
   "cell_type": "code",
   "execution_count": 33,
   "id": "0c78d4c2",
   "metadata": {},
   "outputs": [],
   "source": [
    "it_companies.add('Twitter')"
   ]
  },
  {
   "cell_type": "markdown",
   "id": "ec2ebc34",
   "metadata": {},
   "source": [
    "#### 3.Insert multiple IT companies at once to the set it_companies (100)"
   ]
  },
  {
   "cell_type": "code",
   "execution_count": 34,
   "id": "2db34115",
   "metadata": {},
   "outputs": [
    {
     "data": {
      "text/plain": [
       "{'Amazon',\n",
       " 'Apple',\n",
       " 'DXC',\n",
       " 'Facebook',\n",
       " 'Google',\n",
       " 'IBM',\n",
       " 'Microsoft',\n",
       " 'Oracle',\n",
       " 'Twitter'}"
      ]
     },
     "execution_count": 34,
     "metadata": {},
     "output_type": "execute_result"
    }
   ],
   "source": [
    "it_companies.update([\"Oracle\", \"DXC\"])\n",
    "it_companies"
   ]
  },
  {
   "cell_type": "markdown",
   "id": "88527763",
   "metadata": {},
   "source": [
    "#### 4.Remove one of the companies from the set it_companies(50)"
   ]
  },
  {
   "cell_type": "code",
   "execution_count": 35,
   "id": "f3a47d33",
   "metadata": {},
   "outputs": [],
   "source": [
    "it_companies.remove('Facebook')"
   ]
  },
  {
   "cell_type": "markdown",
   "id": "05bba247",
   "metadata": {},
   "source": [
    "#### 5.What is the difference between remove and discard (100)"
   ]
  },
  {
   "cell_type": "code",
   "execution_count": 36,
   "id": "603f243b",
   "metadata": {},
   "outputs": [],
   "source": [
    "#If the item to remove does not exist, discard() will NOT raise an error but remove will raise an error.\n",
    "it_companies.remove('Google')"
   ]
  },
  {
   "cell_type": "code",
   "execution_count": 37,
   "id": "950b8b59",
   "metadata": {},
   "outputs": [
    {
     "data": {
      "text/plain": [
       "{'Amazon', 'Apple', 'DXC', 'IBM', 'Microsoft', 'Oracle', 'Twitter'}"
      ]
     },
     "execution_count": 37,
     "metadata": {},
     "output_type": "execute_result"
    }
   ],
   "source": [
    "it_companies"
   ]
  },
  {
   "cell_type": "code",
   "execution_count": 38,
   "id": "0a9df7ea",
   "metadata": {},
   "outputs": [],
   "source": [
    "it_companies.discard(\"Apple\")"
   ]
  },
  {
   "cell_type": "code",
   "execution_count": 39,
   "id": "d3131b24",
   "metadata": {},
   "outputs": [
    {
     "data": {
      "text/plain": [
       "{'Amazon', 'DXC', 'IBM', 'Microsoft', 'Oracle', 'Twitter'}"
      ]
     },
     "execution_count": 39,
     "metadata": {},
     "output_type": "execute_result"
    }
   ],
   "source": [
    "it_companies"
   ]
  },
  {
   "cell_type": "markdown",
   "id": "b0a7fc21",
   "metadata": {},
   "source": [
    "<div style=\"background-color:#f3e5f5; color:black; padding:20px; border-radius:15px; border: 1px solid #ccc; box-shadow: 0 2px 4px rgba(0,0,0,0.1);\">\n",
    "  <h2 style=\"margin-top: 0;\">Exercises 05</h2>\n",
    "    <p style=\"font-size:16px;\"><b>Set</b></p><br> \n",
    "(I am a teacher and I love to inspire and teach people.) How many unique words have been used in the sentence?<br>\n",
    "Use the split methods and set to get the unique words.\n",
    "<br><br>\n",
    "</div>"
   ]
  },
  {
   "cell_type": "code",
   "execution_count": 40,
   "id": "f436b42c",
   "metadata": {},
   "outputs": [
    {
     "name": "stdout",
     "output_type": "stream",
     "text": [
      "10\n"
     ]
    }
   ],
   "source": [
    "text = \"I am a teacher and I love to inspire and teach people\"\n",
    "words = text.split(\" \")\n",
    "words = set(words)\n",
    "print(len(words))"
   ]
  },
  {
   "cell_type": "markdown",
   "id": "901704aa",
   "metadata": {},
   "source": [
    "<div style=\"background-color:#f3e5f5; color:black; padding:20px; border-radius:15px; border: 1px solid #ccc; box-shadow: 0 2px 4px rgba(0,0,0,0.1);\">\n",
    "  <h2 style=\"margin-top: 0;\">Exercises 06</h2>\n",
    "    <p style=\"font-size:16px;\"><b>Write a function to Count the number of characters (characters frequency) in a string and print the result as a dictionary</b></p><br>\n",
    "<br><br>\n",
    "Example: input: 'Filoger', output: {'f': 1, 'i': 1, 'l': 1, 'o': 1, 'g': 1, 'e': 1, 'r': 1}\n",
    "</div>"
   ]
  },
  {
   "cell_type": "code",
   "execution_count": 41,
   "id": "55fd0b90",
   "metadata": {},
   "outputs": [
    {
     "data": {
      "text/plain": [
       "{'f': 1, 'i': 1, 'l': 1, 'o': 1, 'g': 1, 'e': 1, 'r': 1}"
      ]
     },
     "execution_count": 41,
     "metadata": {},
     "output_type": "execute_result"
    }
   ],
   "source": [
    "string = \"Filoger\"\n",
    "string = string.lower()\n",
    "char_freq = {}\n",
    "\n",
    "for char in string:\n",
    "    if char in char_freq:\n",
    "        char_freq[char] += 1\n",
    "    else:\n",
    "        char_freq[char] = 1\n",
    "\n",
    "\n",
    "char_freq\n"
   ]
  },
  {
   "cell_type": "markdown",
   "id": "a778d831",
   "metadata": {},
   "source": [
    "<div style=\"background-color:#f3e5f5; color:black; padding:20px; border-radius:15px; border: 1px solid #ccc; box-shadow: 0 2px 4px rgba(0,0,0,0.1);\">\n",
    "  <h2 style=\"margin-top: 0;\">Exercises 07</h2>\n",
    "    <p style=\"font-size:16px;\"><b>Write a Python function to print the odd numbers from a given list.</b></p><br>\n",
    "<br><br>\n",
    "Sample List : [1, 2, 3, 4, 5, 6, 7, 8, 9], Expected Result : [1, 3, 5, 7, 9]\n",
    "</div>"
   ]
  },
  {
   "cell_type": "code",
   "execution_count": 42,
   "id": "a3fa5ec4",
   "metadata": {},
   "outputs": [],
   "source": [
    "list1 = [1, 2, 3, 4, 5, 6, 7, 8, 9]"
   ]
  },
  {
   "cell_type": "code",
   "execution_count": 43,
   "id": "aa15f804",
   "metadata": {},
   "outputs": [
    {
     "name": "stdout",
     "output_type": "stream",
     "text": [
      "Odd numbers: [1, 3, 5, 7, 9]\n"
     ]
    }
   ],
   "source": [
    "def print_odd_numbers(numbers_list):\n",
    "    \"\"\" Print odd numbers from a given list. \"\"\"\n",
    "    odd_numbers = [num for num in numbers_list if num % 2 != 0]\n",
    "    print(\"Odd numbers:\", odd_numbers)\n",
    "\n",
    "\n",
    "print_odd_numbers(list1)"
   ]
  },
  {
   "cell_type": "markdown",
   "id": "d61cde57",
   "metadata": {},
   "source": [
    "<div style=\"background-color:#f3e5f5; color:black; padding:20px; border-radius:15px; border: 1px solid #ccc; box-shadow: 0 2px 4px rgba(0,0,0,0.1);\">\n",
    "  <h2 style=\"margin-top: 0;\">Exercises 08</h2>\n",
    "    <p style=\"font-size:16px;\"><b>Write a Python function to sort a given list of dictionaries(employees) using Lambda. (Sort by age, then for same ages, sort by name)</b></p><br>\n",
    "\n",
    "employees = [{\"name\": \"Sanaz\", \"age\": 14}, {\"name\": \"AmirHossein\",\"age\": 18}, {\"name\": \"Azam\",\"age\":\n",
    "14}, {\"name\": \"Zahra\",\"age\": 16}, {\"name\": \"Shayan\",\"age\": 18}, {\"name\": \"Zahra\",\"age\": 17}]\n",
    "<br><br>\n",
    "output: [{\"name\": \"Azam\",\"age\": 14}, {\"name\": \"Sanaz\",\"age\": 14}, {\"name\": \"Zahra\",\"age\": 16},{\"name\": \"Zahra\",\"age\": 17}, {\"name\": \"AmirHossein\",\"age\": 18}, {\"name\": \"Shayan\",\"age\": 18}]\n",
    "</div>"
   ]
  },
  {
   "cell_type": "code",
   "execution_count": 44,
   "id": "40888448",
   "metadata": {},
   "outputs": [],
   "source": [
    "employees = [{\"name\": \"Sanaz\", \"age\": 14}, \n",
    "             {\"name\": \"AmirHossein\", \"age\": 18}, \n",
    "             {\"name\": \"Azam\", \"age\": 14}, \n",
    "             {\"name\": \"Zahra\", \"age\": 16}, \n",
    "             {\"name\": \"Shayan\", \"age\": 18}, \n",
    "             {\"name\": \"Zahra\", \"age\": 17}]"
   ]
  },
  {
   "cell_type": "code",
   "execution_count": 45,
   "id": "b3b427ca",
   "metadata": {},
   "outputs": [
    {
     "name": "stdout",
     "output_type": "stream",
     "text": [
      "[{'name': 'Azam', 'age': 14}, {'name': 'Sanaz', 'age': 14}, {'name': 'Zahra', 'age': 16}, {'name': 'Zahra', 'age': 17}, {'name': 'AmirHossein', 'age': 18}, {'name': 'Shayan', 'age': 18}]\n"
     ]
    }
   ],
   "source": [
    "def sort_list():\n",
    "    return sorted(employees, key = lambda i: (i[\"age\"], i[\"name\"]))\n",
    "print(sort_list())"
   ]
  },
  {
   "cell_type": "markdown",
   "id": "66be604e",
   "metadata": {},
   "source": [
    "<div style=\"background-color:#f3e5f5; color:black; padding:20px; border-radius:15px; border: 1px solid #ccc; box-shadow: 0 2px 4px rgba(0,0,0,0.1);\">\n",
    "  <h2 style=\"margin-top: 0;\">Exercises 09</h2>\n",
    "    <p style=\"font-size:16px;\"><b>Write a Python function to calculate first n numbers of Fibonacci sequence. (n is function input) </b></p><br>\n",
    "<b>Points:</b><br> \n",
    "Use recursion to solve the question!\n",
    "\n",
    "input: 7, output: 0 1 1 2 3 5 8\n",
    "</div>"
   ]
  },
  {
   "cell_type": "code",
   "execution_count": 46,
   "id": "fc134303",
   "metadata": {},
   "outputs": [
    {
     "data": {
      "text/plain": [
       "[0, 1, 1, 2, 3, 5, 8]"
      ]
     },
     "execution_count": 46,
     "metadata": {},
     "output_type": "execute_result"
    }
   ],
   "source": [
    "def fibonacci(n):\n",
    "    \"\"\"Calculate the first n numbers of the Fibonacci sequence using recursion.\"\"\"\n",
    "    if n <= 0:\n",
    "        return []\n",
    "    elif n == 1:\n",
    "        return [0]\n",
    "    elif n == 2:\n",
    "        return [0, 1]\n",
    "    else:\n",
    "        fib_seq = fibonacci(n - 1)\n",
    "        fib_seq.append(fib_seq[-1] + fib_seq[-2])\n",
    "        return fib_seq\n",
    "\n",
    "# Example usage\n",
    "n = 7\n",
    "fibonacci_sequence = fibonacci(n)\n",
    "fibonacci_sequence"
   ]
  },
  {
   "cell_type": "markdown",
   "id": "6a6fa538",
   "metadata": {},
   "source": [
    "<div style=\"background-color:#f3e5f5; color:black; padding:20px; border-radius:15px; border: 1px solid #ccc; box-shadow: 0 2px 4px rgba(0,0,0,0.1);\">\n",
    "  <h2 style=\"margin-top: 0;\">Exercises 10</h2>\n",
    "    <p style=\"font-size:16px;\"><b>print the type of error and handle that. (Use specific and General Exception)</b></p><br>\n",
    "dict = {'Python': 2, 'DIP': 7, 'DL': 8}\n",
    "print (dict['CV'])\n",
    "Type here to search \n",
    "</div>"
   ]
  },
  {
   "cell_type": "code",
   "execution_count": 47,
   "id": "2ab99267",
   "metadata": {},
   "outputs": [],
   "source": [
    "# Given dictionary\n",
    "dict = {'Python': 2, 'DIP': 7, 'DL': 8}"
   ]
  },
  {
   "cell_type": "code",
   "execution_count": 48,
   "id": "95127563",
   "metadata": {},
   "outputs": [
    {
     "name": "stdout",
     "output_type": "stream",
     "text": [
      "KeyError: 'CV'\n"
     ]
    }
   ],
   "source": [
    "try:\n",
    "    # Attempt to print a value with the key 'CV'\n",
    "    print(dict['CV'])\n",
    "except KeyError as e:\n",
    "    print(f\"KeyError: {e}\")\n",
    "except Exception as e:\n",
    "    print(f\"General Exception: {type(e).__name__}: {e}\")"
   ]
  },
  {
   "cell_type": "markdown",
   "id": "a3da0b45",
   "metadata": {},
   "source": [
    "<div style=\"background-color:#f3e5f5; color:black; padding:20px; border-radius:15px; border: 1px solid #ccc; box-shadow: 0 2px 4px rgba(0,0,0,0.1);\">\n",
    "  <h2 style=\"margin-top: 0;\">Exercises 11</h2>\n",
    "    <p style=\"font-size:16px;\"><b>print the type of error and handle that. (Use specific and General Exception)</b></p><br><br>\n",
    "code = '45145GT' int(code)\n",
    "</div>"
   ]
  },
  {
   "cell_type": "code",
   "execution_count": 49,
   "id": "f760422c",
   "metadata": {},
   "outputs": [],
   "source": [
    "code = '45145GT'"
   ]
  },
  {
   "cell_type": "code",
   "execution_count": 50,
   "id": "d37c1a72",
   "metadata": {},
   "outputs": [
    {
     "name": "stdout",
     "output_type": "stream",
     "text": [
      "ValueError: invalid literal for int() with base 10: '45145GT'\n"
     ]
    }
   ],
   "source": [
    "try:\n",
    "    int_code = int(code)\n",
    "except ValueError as e:\n",
    "    print(\"ValueError:\", e)\n",
    "except Exception as e:\n",
    "    print(\"General Exception:\", e)"
   ]
  },
  {
   "cell_type": "markdown",
   "id": "8aa465e5",
   "metadata": {},
   "source": [
    "<div style=\"background-color:#f3e5f5; color:black; padding:20px; border-radius:15px; border: 1px solid #ccc; box-shadow: 0 2px 4px rgba(0,0,0,0.1);\">\n",
    "  <h2 style=\"margin-top: 0;\">Exercises 12</h2>\n",
    "    <p style=\"font-size:16px;\"><b>Create a txt file (name: Ex_01_Files.txt) and save the following list in the file! (save each element in the new line!)</b></p><br>\n",
    "<b>Points:</b><br>\n",
    "Before reading file, check the file existence!<br>\n",
    "Close the file, finally!\n",
    "    \n",
    "<br><br> [1, 7, 'test', 'apple', 'banana', 'cherry', 785, 19, 'Python', 78.0, True, 7854.15]\n",
    "</div>"
   ]
  },
  {
   "cell_type": "code",
   "execution_count": 51,
   "id": "4d0ab7e8",
   "metadata": {},
   "outputs": [
    {
     "name": "stdout",
     "output_type": "stream",
     "text": [
      "True\n"
     ]
    },
    {
     "data": {
      "text/plain": [
       "(True, False, 'Ex_01_Files.txt')"
      ]
     },
     "execution_count": 51,
     "metadata": {},
     "output_type": "execute_result"
    }
   ],
   "source": [
    "import os\n",
    "\n",
    "file_path = 'Ex_01_Files.txt'\n",
    "\n",
    "# Check if the file exists\n",
    "file_exists = os.path.exists(file_path)\n",
    "print(file_exists)\n",
    "\n",
    "if not file_exists:\n",
    "    # List to be saved in the file\n",
    "    data_list = [1, 7, 'test', 'apple', 'banana', 'cherry', 785, 19, 'Python', 78.0, True, 7854.15]\n",
    "\n",
    "    # Writing to the file\n",
    "    with open(file_path, 'w') as file:\n",
    "        for item in data_list:\n",
    "            file.write(str(item) + '\\n')\n",
    "\n",
    "    file_closed = file.closed\n",
    "    file_created = True\n",
    "else:\n",
    "    file_closed = True\n",
    "    file_created = False\n",
    "\n",
    "file_closed, file_created, file_path\n"
   ]
  },
  {
   "cell_type": "markdown",
   "id": "2b7e57bd",
   "metadata": {},
   "source": [
    "<div style=\"background-color:#f3e5f5; color:black; padding:20px; border-radius:15px; border: 1px solid #ccc; box-shadow: 0 2px 4px rgba(0,0,0,0.1);\">\n",
    "  <h2 style=\"margin-top: 0;\">Exercises 13</h2>\n",
    "    <p style=\"font-size:16px;\"><b>Read the Ex_01_Files.txt and save and print the numbers and strings in to separated list!</b></p><br>\n",
    "<b>Points:</b><br>\n",
    "Before reading file, check the file existence!<br>\n",
    "Close the file, finally!<br>\n",
    "Handle FileNotFoundError error!\n",
    "</div>"
   ]
  },
  {
   "cell_type": "code",
   "execution_count": 52,
   "id": "ab24c261",
   "metadata": {},
   "outputs": [
    {
     "data": {
      "text/plain": [
       "([1, 7, 785, 19, 78.0, 7854.15],\n",
       " ['test', 'apple', 'banana', 'cherry', 'Python', 'True'],\n",
       " True)"
      ]
     },
     "execution_count": 52,
     "metadata": {},
     "output_type": "execute_result"
    }
   ],
   "source": [
    "file_path = 'Ex_01_Files.txt'\n",
    "\n",
    "# Check if the file exists\n",
    "if os.path.exists(file_path):\n",
    "    try:\n",
    "        numbers = []\n",
    "        strings = []\n",
    "\n",
    "        with open(file_path, 'r') as file:\n",
    "            for line in file:\n",
    "                line = line.strip()\n",
    "                if line.isdigit():\n",
    "                    numbers.append(int(line))\n",
    "                elif line.replace('.', '', 1).isdigit() and line.count('.') < 2:\n",
    "                    numbers.append(float(line))\n",
    "                else:\n",
    "                    strings.append(line)\n",
    "\n",
    "        file_closed = file.closed\n",
    "    except FileNotFoundError:\n",
    "        numbers, strings = None, None\n",
    "        file_closed = True\n",
    "        print(\"FileNotFoundError: The file was not found.\")\n",
    "else:\n",
    "    numbers, strings = None, None\n",
    "    file_closed = True\n",
    "    print(\"The file does not exist.\")\n",
    "\n",
    "numbers, strings, file_closed"
   ]
  },
  {
   "cell_type": "markdown",
   "id": "87555085",
   "metadata": {},
   "source": [
    "## Finished!"
   ]
  }
 ],
 "metadata": {
  "kernelspec": {
   "display_name": "Python 3 (ipykernel)",
   "language": "python",
   "name": "python3"
  },
  "language_info": {
   "codemirror_mode": {
    "name": "ipython",
    "version": 3
   },
   "file_extension": ".py",
   "mimetype": "text/x-python",
   "name": "python",
   "nbconvert_exporter": "python",
   "pygments_lexer": "ipython3",
   "version": "3.11.4"
  }
 },
 "nbformat": 4,
 "nbformat_minor": 5
}
